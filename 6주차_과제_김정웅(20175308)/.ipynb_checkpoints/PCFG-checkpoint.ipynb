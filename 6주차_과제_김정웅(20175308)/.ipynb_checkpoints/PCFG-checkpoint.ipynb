{
 "cells": [
  {
   "cell_type": "code",
   "execution_count": 1,
   "metadata": {},
   "outputs": [],
   "source": [
    "import nltk"
   ]
  },
  {
   "cell_type": "code",
   "execution_count": 2,
   "metadata": {},
   "outputs": [],
   "source": [
    "from nltk.parse.generate import generate"
   ]
  },
  {
   "cell_type": "code",
   "execution_count": 28,
   "metadata": {},
   "outputs": [],
   "source": [
    "productions = [\n",
    "    # 1\n",
    "    \"ROOT -> WORD [1.0]\", # [1.0] 확률값, ROOT = 무조건 WORD\n",
    "    # 2\n",
    "    \"WORD -> P1 [0.25]\",\n",
    "    \"WORD -> P1 P2 [0.25]\",\n",
    "    \"WORD -> P1 P2 P3 [0.25]\",\n",
    "    \"WORD -> P1 P2 P3 P4 [0.25]\", # 4가지를 합치면 1.0이 되어야 함\n",
    "    # 3\n",
    "    \"P1 -> 'A' [1.0]\",\n",
    "    \"P2 -> 'B' [0.5]\",\n",
    "    \"P2 -> 'C' [0.5]\",\n",
    "    \"P3 -> 'D' [0.3]\",\n",
    "    \"P3 -> 'E' [0.3]\",\n",
    "    \"P3 -> 'F' [0.4]\",\n",
    "    \"P4 -> 'G' [0.9]\",\n",
    "    \"P4 -> 'H' [0.1]\",\n",
    "]"
   ]
  },
  {
   "cell_type": "code",
   "execution_count": 29,
   "metadata": {},
   "outputs": [],
   "source": [
    "grammarString = \"\\n\".join(productions)"
   ]
  },
  {
   "cell_type": "code",
   "execution_count": 30,
   "metadata": {},
   "outputs": [],
   "source": [
    "grammar = nltk.PCFG.fromstring(grammarString) \n",
    "# PCFG : 확률 처리"
   ]
  },
  {
   "cell_type": "code",
   "execution_count": 31,
   "metadata": {},
   "outputs": [
    {
     "name": "stdout",
     "output_type": "stream",
     "text": [
      "Grammar with 13 productions (start state = ROOT)\n",
      "    ROOT -> WORD [1.0]\n",
      "    WORD -> P1 [0.25]\n",
      "    WORD -> P1 P2 [0.25]\n",
      "    WORD -> P1 P2 P3 [0.25]\n",
      "    WORD -> P1 P2 P3 P4 [0.25]\n",
      "    P1 -> 'A' [1.0]\n",
      "    P2 -> 'B' [0.5]\n",
      "    P2 -> 'C' [0.5]\n",
      "    P3 -> 'D' [0.3]\n",
      "    P3 -> 'E' [0.3]\n",
      "    P3 -> 'F' [0.4]\n",
      "    P4 -> 'G' [0.9]\n",
      "    P4 -> 'H' [0.1]\n"
     ]
    }
   ],
   "source": [
    "print(grammar)\n",
    "# 각 P를 합치면 1이 되어야 함\n",
    "# P3의 경우, 10번 중 4번이 F가 나오고, 3번씩 D,E (랜덤)"
   ]
  },
  {
   "cell_type": "code",
   "execution_count": 32,
   "metadata": {},
   "outputs": [
    {
     "name": "stdout",
     "output_type": "stream",
     "text": [
      "문자열 : A, 크기 : 1\n",
      "문자열 : AB, 크기 : 2\n",
      "문자열 : AC, 크기 : 2\n",
      "문자열 : ABD, 크기 : 3\n",
      "문자열 : ABE, 크기 : 3\n",
      "문자열 : ABF, 크기 : 3\n",
      "문자열 : ACD, 크기 : 3\n",
      "문자열 : ACE, 크기 : 3\n",
      "문자열 : ACF, 크기 : 3\n",
      "문자열 : ABDG, 크기 : 4\n",
      "문자열 : ABDH, 크기 : 4\n",
      "문자열 : ABEG, 크기 : 4\n",
      "문자열 : ABEH, 크기 : 4\n",
      "문자열 : ABFG, 크기 : 4\n",
      "문자열 : ABFH, 크기 : 4\n",
      "문자열 : ACDG, 크기 : 4\n",
      "문자열 : ACDH, 크기 : 4\n",
      "문자열 : ACEG, 크기 : 4\n",
      "문자열 : ACEH, 크기 : 4\n",
      "문자열 : ACFG, 크기 : 4\n",
      "문자열 : ACFH, 크기 : 4\n"
     ]
    }
   ],
   "source": [
    "for sentence in generate(grammar, n=30, depth=5):\n",
    "    palindrome = \"\".join(sentence).replace(\" \", \"\")\n",
    "    print(\"문자열 : {}, 크기 : {}\".format(palindrome, len(palindrome)))\n",
    "# P 순서대로 문자열 생성 B -> A는 불가능"
   ]
  },
  {
   "cell_type": "code",
   "execution_count": null,
   "metadata": {},
   "outputs": [],
   "source": []
  },
  {
   "cell_type": "code",
   "execution_count": null,
   "metadata": {},
   "outputs": [],
   "source": []
  }
 ],
 "metadata": {
  "kernelspec": {
   "display_name": "Python 3",
   "language": "python",
   "name": "python3"
  },
  "language_info": {
   "codemirror_mode": {
    "name": "ipython",
    "version": 3
   },
   "file_extension": ".py",
   "mimetype": "text/x-python",
   "name": "python",
   "nbconvert_exporter": "python",
   "pygments_lexer": "ipython3",
   "version": "3.8.3"
  }
 },
 "nbformat": 4,
 "nbformat_minor": 4
}

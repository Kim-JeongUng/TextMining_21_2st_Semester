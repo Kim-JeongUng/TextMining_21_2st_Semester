{
 "cells": [
  {
   "cell_type": "code",
   "execution_count": 4,
   "metadata": {},
   "outputs": [],
   "source": [
    "import nltk"
   ]
  },
  {
   "cell_type": "code",
   "execution_count": 5,
   "metadata": {},
   "outputs": [
    {
     "name": "stderr",
     "output_type": "stream",
     "text": [
      "[nltk_data] Downloading package wordnet to\n",
      "[nltk_data]     C:\\Users\\USER\\AppData\\Roaming\\nltk_data...\n",
      "[nltk_data]   Package wordnet is already up-to-date!\n"
     ]
    },
    {
     "data": {
      "text/plain": [
       "True"
      ]
     },
     "execution_count": 5,
     "metadata": {},
     "output_type": "execute_result"
    }
   ],
   "source": [
    "nltk.download('wordnet')"
   ]
  },
  {
   "cell_type": "code",
   "execution_count": 15,
   "metadata": {},
   "outputs": [],
   "source": [
    "from nltk.corpus import wordnet as wn\n",
    "chair = 'Majority'"
   ]
  },
  {
   "cell_type": "code",
   "execution_count": 16,
   "metadata": {},
   "outputs": [
    {
     "name": "stdout",
     "output_type": "stream",
     "text": [
      "의자(chair)의 뜻 Synsets :  [Synset('majority.n.01'), Synset('majority.n.02'), Synset('majority.n.03')] \n",
      "\n",
      "\n"
     ]
    }
   ],
   "source": [
    "chair_synsets = wn.synsets(chair)\n",
    "print('의자(chair)의 뜻 Synsets : ', chair_synsets, '\\n\\n')"
   ]
  },
  {
   "cell_type": "code",
   "execution_count": 18,
   "metadata": {},
   "outputs": [
    {
     "name": "stdout",
     "output_type": "stream",
     "text": [
      "Synset('majority.n.01') :\n",
      "Definition:  the property resulting from being or relating to the greater in number of two parts; the main part\n",
      "Lemmas/Synonymous words:  bulk\n",
      "Example:  ['the majority of his customers prefer it', 'the bulk of the work is finished'] \n",
      "\n",
      "Synset('majority.n.02') :\n",
      "Definition:  (elections) more than half of the votes\n",
      "Lemmas/Synonymous words:  absolute_majority\n",
      "Example:  [] \n",
      "\n",
      "Synset('majority.n.03') :\n",
      "Definition:  the age at which persons are considered competent to manage their own affairs\n",
      "Lemmas/Synonymous words:  legal_age\n",
      "Example:  [] \n",
      "\n"
     ]
    }
   ],
   "source": [
    "for synset in chair_synsets:\n",
    "    print(synset, ':')\n",
    "    print('Definition: ', synset.definition())\n",
    "    print('Lemmas/Synonymous words: ',synset.lemma_names()[1])\n",
    "    print('Example: ', synset.examples(), '\\n')"
   ]
  },
  {
   "cell_type": "code",
   "execution_count": null,
   "metadata": {},
   "outputs": [],
   "source": []
  },
  {
   "cell_type": "code",
   "execution_count": null,
   "metadata": {},
   "outputs": [],
   "source": []
  }
 ],
 "metadata": {
  "kernelspec": {
   "display_name": "Python 3",
   "language": "python",
   "name": "python3"
  },
  "language_info": {
   "codemirror_mode": {
    "name": "ipython",
    "version": 3
   },
   "file_extension": ".py",
   "mimetype": "text/x-python",
   "name": "python",
   "nbconvert_exporter": "python",
   "pygments_lexer": "ipython3",
   "version": "3.8.3"
  }
 },
 "nbformat": 4,
 "nbformat_minor": 4
}

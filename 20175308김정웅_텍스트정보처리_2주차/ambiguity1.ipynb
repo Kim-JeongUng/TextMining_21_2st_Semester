{
 "cells": [
  {
   "cell_type": "code",
   "execution_count": 2,
   "metadata": {},
   "outputs": [],
   "source": [
    "import nltk"
   ]
  },
  {
   "cell_type": "code",
   "execution_count": 3,
   "metadata": {},
   "outputs": [
    {
     "name": "stderr",
     "output_type": "stream",
     "text": [
      "[nltk_data] Downloading package wordnet to\n",
      "[nltk_data]     C:\\Users\\USER\\AppData\\Roaming\\nltk_data...\n",
      "[nltk_data]   Package wordnet is already up-to-date!\n"
     ]
    },
    {
     "data": {
      "text/plain": [
       "True"
      ]
     },
     "execution_count": 3,
     "metadata": {},
     "output_type": "execute_result"
    }
   ],
   "source": [
    "nltk.download('wordnet')"
   ]
  },
  {
   "cell_type": "code",
   "execution_count": 4,
   "metadata": {},
   "outputs": [],
   "source": [
    "from nltk.corpus import wordnet as wn\n",
    "chair = 'chair'"
   ]
  },
  {
   "cell_type": "code",
   "execution_count": 5,
   "metadata": {},
   "outputs": [
    {
     "name": "stdout",
     "output_type": "stream",
     "text": [
      "의자(chair)의 뜻 Synsets :  [Synset('chair.n.01'), Synset('professorship.n.01'), Synset('president.n.04'), Synset('electric_chair.n.01'), Synset('chair.n.05'), Synset('chair.v.01'), Synset('moderate.v.01')] \n",
      "\n",
      "\n"
     ]
    }
   ],
   "source": [
    "chair_synsets = wn.synsets(chair)\n",
    "print('의자(chair)의 뜻 Synsets : ', chair_synsets, '\\n\\n')"
   ]
  },
  {
   "cell_type": "code",
   "execution_count": 7,
   "metadata": {},
   "outputs": [
    {
     "name": "stdout",
     "output_type": "stream",
     "text": [
      "Synset('chair.n.01') :\n",
      "Definition:  a seat for one person, with a support for the back\n",
      "Lemmas/Synonymous words:  ['chair']\n",
      "Example:  ['he put his coat over the back of the chair and sat down'] \n",
      "\n",
      "Synset('professorship.n.01') :\n",
      "Definition:  the position of professor\n",
      "Lemmas/Synonymous words:  ['professorship', 'chair']\n",
      "Example:  ['he was awarded an endowed chair in economics'] \n",
      "\n",
      "Synset('president.n.04') :\n",
      "Definition:  the officer who presides at the meetings of an organization\n",
      "Lemmas/Synonymous words:  ['president', 'chairman', 'chairwoman', 'chair', 'chairperson']\n",
      "Example:  ['address your remarks to the chairperson'] \n",
      "\n",
      "Synset('electric_chair.n.01') :\n",
      "Definition:  an instrument of execution by electrocution; resembles an ordinary seat for one person\n",
      "Lemmas/Synonymous words:  ['electric_chair', 'chair', 'death_chair', 'hot_seat']\n",
      "Example:  ['the murderer was sentenced to die in the chair'] \n",
      "\n",
      "Synset('chair.n.05') :\n",
      "Definition:  a particular seat in an orchestra\n",
      "Lemmas/Synonymous words:  ['chair']\n",
      "Example:  ['he is second chair violin'] \n",
      "\n",
      "Synset('chair.v.01') :\n",
      "Definition:  act or preside as chair, as of an academic department in a university\n",
      "Lemmas/Synonymous words:  ['chair', 'chairman']\n",
      "Example:  ['She chaired the department for many years'] \n",
      "\n",
      "Synset('moderate.v.01') :\n",
      "Definition:  preside over\n",
      "Lemmas/Synonymous words:  ['moderate', 'chair', 'lead']\n",
      "Example:  ['John moderated the discussion'] \n",
      "\n"
     ]
    }
   ],
   "source": [
    "for synset in chair_synsets:\n",
    "    print(synset, ':')\n",
    "    print('Definition: ', synset.definition())\n",
    "    print('Lemmas/Synonymous words: ',synset.lemma_names())\n",
    "    print('Example: ', synset.examples(), '\\n')"
   ]
  },
  {
   "cell_type": "code",
   "execution_count": null,
   "metadata": {},
   "outputs": [],
   "source": []
  }
 ],
 "metadata": {
  "kernelspec": {
   "display_name": "Python 3",
   "language": "python",
   "name": "python3"
  },
  "language_info": {
   "codemirror_mode": {
    "name": "ipython",
    "version": 3
   },
   "file_extension": ".py",
   "mimetype": "text/x-python",
   "name": "python",
   "nbconvert_exporter": "python",
   "pygments_lexer": "ipython3",
   "version": "3.8.3"
  }
 },
 "nbformat": 4,
 "nbformat_minor": 4
}

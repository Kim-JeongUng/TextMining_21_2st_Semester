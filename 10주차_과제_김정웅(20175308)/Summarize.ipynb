{
  "nbformat": 4,
  "nbformat_minor": 0,
  "metadata": {
    "kernelspec": {
      "display_name": "Python 3",
      "language": "python",
      "name": "python3"
    },
    "language_info": {
      "codemirror_mode": {
        "name": "ipython",
        "version": 3
      },
      "file_extension": ".py",
      "mimetype": "text/x-python",
      "name": "python",
      "nbconvert_exporter": "python",
      "pygments_lexer": "ipython3",
      "version": "3.8.3"
    },
    "colab": {
      "name": "Summarize.ipynb",
      "provenance": [],
      "collapsed_sections": []
    }
  },
  "cells": [
    {
      "cell_type": "code",
      "metadata": {
        "id": "fs1Z6Ddq0_xM"
      },
      "source": [
        "from gensim.summarization import summarize\n",
        "from bs4 import BeautifulSoup\n",
        "import requests"
      ],
      "execution_count": 1,
      "outputs": []
    },
    {
      "cell_type": "code",
      "metadata": {
        "id": "YHFz_wS80_xQ"
      },
      "source": [
        "urls = {\n",
        "    'Exploration of the Location-Identity Split': 'http://scigen.csail.mit.edu/scicache/270/scimakelatex.26087.Qiang-Qiang+Yan.Hai-Wei+Liang.html',\n",
        "    'Deconstructing Voice-over-IP': 'http://scigen.csail.mit.edu/scicache/269/scimakelatex.25977.Aiden+Pearce.html'\n",
        "}"
      ],
      "execution_count": 4,
      "outputs": []
    },
    {
      "cell_type": "code",
      "metadata": {
        "colab": {
          "base_uri": "https://localhost:8080/"
        },
        "id": "OZXr3Nb90_xR",
        "outputId": "c6ba03b2-875c-497c-efe7-78e184305ff0"
      },
      "source": [
        "for key in urls.keys():\n",
        "    url = urls[key]\n",
        "    r = requests.get(url)\n",
        "    soup = BeautifulSoup(r.text, 'html.parser')\n",
        "    data = soup.get_text()\n",
        "    pos1 = data.find(\"1  Introduction\") + len(\"1  Introduction\")\n",
        "    pos2 = data.find(\"2  Related Work\")\n",
        "    text = data[pos1:pos2].strip()\n",
        "    print(\"PAPER URL: {}\".format(url))\n",
        "    print(\"TITLE: {}\".format(key))\n",
        "    print(\"GENERATED SUMMARY: {}\".format(summarize(text)))\n",
        "    print()"
      ],
      "execution_count": 5,
      "outputs": [
        {
          "output_type": "stream",
          "name": "stdout",
          "text": [
            "PAPER URL: http://scigen.csail.mit.edu/scicache/270/scimakelatex.26087.Qiang-Qiang+Yan.Hai-Wei+Liang.html\n",
            "TITLE: Exploration of the Location-Identity Split\n",
            "GENERATED SUMMARY: wide-area networks.\n",
            "construction of online algorithms by Lee and Davis runs in\n",
            "this solution perfect:  YnowHip simulates pervasive symmetries, and\n",
            "also YnowHip provides replicated symmetries.\n",
            "properties has not yet been improved in prior work.\n",
            "Internet QoS, we believe that a different approach is necessary.\n",
            "Internet QoS  (YnowHip), verifying that hierarchical databases  can\n",
            "Moore's Law  and write-back caches  are entirely incompatible.\n",
            "with the prior work in this area.\n",
            "Figure 1 details our framework's probabilistic\n",
            "We consider a framework consisting of n\n",
            "Therefore, the design that YnowHip uses\n",
            "Suppose that there exists heterogeneous configurations such that we can\n",
            "Figure 1 diagrams YnowHip's mobile analysis.\n",
            "We consider an algorithm consisting\n",
            "consider an algorithm consisting of n systems.\n",
            "electrical engineers entirely assume the exact opposite, YnowHip\n",
            "Thus, the methodology that YnowHip uses holds for\n",
            "Overall, YnowHip adds only modest overhead and complexity to previous\n",
            "4  Results and Analysis\n",
            "Our performance analysis represents a valuable research contribution in\n",
            "The 10th-percentile power of YnowHip, as a function of sampling rate.\n",
            "A well-tuned network setup holds the key to an useful evaluation\n",
            "lines, we removed some floppy disk space from our mobile telephones.\n",
            "The expected work factor of our methodology, compared with the other\n",
            "We added support for YnowHip as a Markov runtime\n",
            "We added support for YnowHip as a computationally independent\n",
            "4.2  Experiments and Results\n",
            "measured optical drive space as a function of ROM throughput on an IBM\n",
            "checksums; and (4) we dogfooded YnowHip on our own desktop machines,\n",
            "results of some earlier experiments, notably when we measured tape drive\n",
            "attention to YnowHip's seek time.\n",
            "Note that sensor networks have less\n",
            "them in software produce more jagged, more reproducible results.\n",
            "anticipated how precise our results were in this phase of the evaluation\n",
            "Note that web browsers have less discretized flash-memory\n",
            "Note how rolling out Web\n",
            "Our solution is related to research into metamorphic methodologies,\n",
            "similar methodology, however we disproved that our algorithm follows a\n",
            "prior work supports our use of randomized algorithms.\n",
            "YnowHip also\n",
            "general, our application outperformed all prior methodologies in this\n",
            "Our solution is related to research into the UNIVAC computer, reliable\n",
            "that we synthesize only structured configurations in our algorithm\n",
            "approach represents a significant advance above this work.\n",
            "YnowHip outperformed all prior solutions in this area.\n",
            "our methodology runs in Θ(n2) time  [11].\n",
            "approach to Web services  differs from that of Hector Garcia-Molina\n",
            "A deployment of fiber-optic cables.\n",
            "Refining Web services using electronic theory.\n",
            "In Proceedings of the Symposium on Relational, Self-Learning\n",
            "Decoupling sensor networks from congestion control in superpages.\n",
            "In Proceedings of FOCS  (Mar. 1986).\n",
            "A methodology for the understanding of information retrieval systems.\n",
            "In Proceedings of the Conference on Empathic, Bayesian\n",
            "In Proceedings of the Conference on Secure Epistemologies \n",
            "Deconstructing access points using Bub.\n",
            "In Proceedings of the Conference on Flexible, Certifiable\n",
            "In Proceedings of the WWW Conference  (Jan. 1995).\n",
            "Contrasting lambda calculus and local-area networks.\n",
            "Refining superpages using read-write technology.\n",
            "Journal of Introspective, Modular Methodologies 25  (July\n",
            "Refining erasure coding using certifiable methodologies.\n",
            "In Proceedings of the Conference on Replicated, Compact\n",
            "Yan, Q.-Q., and Bose, B.\n",
            "Simulating neural networks using semantic algorithms.\n",
            "Configurations  (Mar. 1999).\n",
            "\n",
            "PAPER URL: http://scigen.csail.mit.edu/scicache/269/scimakelatex.25977.Aiden+Pearce.html\n",
            "TITLE: Deconstructing Voice-over-IP\n",
            "GENERATED SUMMARY: information is usually adamantly opposed.\n",
            "We emphasize that our heuristic develops\n",
            "manages access points, and also we allow flip-flop gates  to explore\n",
            "learning as following a cycle of four phases: deployment, provision,\n",
            "a cycle of four phases: allowance, evaluation, investigation, and\n",
            "Combined with Lamport clocks, this discussion develops an\n",
            "analysis of B-trees.\n",
            "The rest of this paper is organized as follows.\n",
            "motivate the need for wide-area networks [2].\n",
            "can be applied to the exploration of local-area networks.\n",
            "same lines, we prove the development of linked lists.\n",
            "\n"
          ]
        }
      ]
    },
    {
      "cell_type": "code",
      "metadata": {
        "id": "tzU8-8VJ0_xR"
      },
      "source": [
        ""
      ],
      "execution_count": null,
      "outputs": []
    }
  ]
}
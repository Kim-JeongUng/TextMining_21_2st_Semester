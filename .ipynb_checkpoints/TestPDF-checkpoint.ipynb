{
 "cells": [
  {
   "cell_type": "code",
   "execution_count": 2,
   "metadata": {
    "colab": {
     "base_uri": "https://localhost:8080/"
    },
    "executionInfo": {
     "elapsed": 10581,
     "status": "ok",
     "timestamp": 1631509942502,
     "user": {
      "displayName": "김정웅",
      "photoUrl": "https://lh3.googleusercontent.com/a-/AOh14Gi9wZQCMT-Ewb8fSSd8VZFYa6zKqkUMdwL-9MKifw=s64",
      "userId": "18091738844946705945"
     },
     "user_tz": -540
    },
    "id": "exBXssujjrMw",
    "outputId": "2ef557d8-8fb4-45ad-b3b2-8f7b25e53e1a"
   },
   "outputs": [
    {
     "name": "stdout",
     "output_type": "stream",
     "text": [
      "Requirement already satisfied: import_ipynb in c:\\programdata\\anaconda3\\lib\\site-packages (0.1.3)\n"
     ]
    }
   ],
   "source": [
    "!pip install import_ipynb"
   ]
  },
  {
   "cell_type": "code",
   "execution_count": 3,
   "metadata": {
    "executionInfo": {
     "elapsed": 267,
     "status": "ok",
     "timestamp": 1631510150417,
     "user": {
      "displayName": "김정웅",
      "photoUrl": "https://lh3.googleusercontent.com/a-/AOh14Gi9wZQCMT-Ewb8fSSd8VZFYa6zKqkUMdwL-9MKifw=s64",
      "userId": "18091738844946705945"
     },
     "user_tz": -540
    },
    "id": "S5fZbAItkfjb"
   },
   "outputs": [],
   "source": [
    "import import_ipynb"
   ]
  },
  {
   "cell_type": "code",
   "execution_count": 5,
   "metadata": {
    "colab": {
     "base_uri": "https://localhost:8080/"
    },
    "executionInfo": {
     "elapsed": 248,
     "status": "ok",
     "timestamp": 1631510346663,
     "user": {
      "displayName": "김정웅",
      "photoUrl": "https://lh3.googleusercontent.com/a-/AOh14Gi9wZQCMT-Ewb8fSSd8VZFYa6zKqkUMdwL-9MKifw=s64",
      "userId": "18091738844946705945"
     },
     "user_tz": -540
    },
    "id": "ml3Iu1IMkoJK",
    "outputId": "b25da40e-672d-46ee-f239-1b8046d9c13f"
   },
   "outputs": [],
   "source": [
    "import pdf"
   ]
  },
  {
   "cell_type": "code",
   "execution_count": 6,
   "metadata": {
    "id": "Iz3b0GAyjtg1"
   },
   "outputs": [
    {
     "name": "stdout",
     "output_type": "stream",
     "text": [
      "PDF 1:\n",
      " This is a sample PDF document I am using to demonstrate in the tutorial.\n",
      " \n",
      "\n",
      "PDF 2:\n",
      " This is a sample PDF document\n",
      " \n",
      "password protected.\n",
      " \n",
      "\n"
     ]
    }
   ],
   "source": [
    "pdfFile = 'sample-one-line.pdf'\n",
    "pdfFileEncrypted = 'sample-one-line.protected.pdf'\n",
    "print('PDF 1:\\n', pdf.getTextPDF(pdfFile))\n",
    "print('PDF 2:\\n', pdf.getTextPDF(pdfFileEncrypted, 'tuffy'))"
   ]
  },
  {
   "cell_type": "code",
   "execution_count": null,
   "metadata": {},
   "outputs": [],
   "source": []
  }
 ],
 "metadata": {
  "colab": {
   "authorship_tag": "ABX9TyOee0TYBdIpwkmFiUwEBxVN",
   "name": "TestPDF.ipynb",
   "provenance": []
  },
  "kernelspec": {
   "display_name": "Python 3",
   "language": "python",
   "name": "python3"
  },
  "language_info": {
   "codemirror_mode": {
    "name": "ipython",
    "version": 3
   },
   "file_extension": ".py",
   "mimetype": "text/x-python",
   "name": "python",
   "nbconvert_exporter": "python",
   "pygments_lexer": "ipython3",
   "version": "3.8.3"
  }
 },
 "nbformat": 4,
 "nbformat_minor": 1
}

{
 "cells": [
  {
   "cell_type": "code",
   "execution_count": 1,
   "metadata": {},
   "outputs": [
    {
     "name": "stdout",
     "output_type": "stream",
     "text": [
      "Requirement already satisfied: feedparser in c:\\programdata\\anaconda3\\lib\\site-packages (6.0.8)\n",
      "Requirement already satisfied: sgmllib3k in c:\\programdata\\anaconda3\\lib\\site-packages (from feedparser) (1.0.0)\n"
     ]
    }
   ],
   "source": [
    "!pip install feedparser"
   ]
  },
  {
   "cell_type": "code",
   "execution_count": 2,
   "metadata": {},
   "outputs": [],
   "source": [
    "import feedparser"
   ]
  },
  {
   "cell_type": "code",
   "execution_count": 3,
   "metadata": {},
   "outputs": [],
   "source": [
    "myFeed = feedparser.parse(\"http://feeds.mashable.com/Mashable\")"
   ]
  },
  {
   "cell_type": "code",
   "execution_count": 4,
   "metadata": {},
   "outputs": [
    {
     "name": "stdout",
     "output_type": "stream",
     "text": [
      "피드 제목 : Mashable\n",
      "포스트 수 : 100\n"
     ]
    }
   ],
   "source": [
    "print(\"피드 제목 :\",myFeed['feed']['title'])\n",
    "print('포스트 수 :',len(myFeed.entries))"
   ]
  },
  {
   "cell_type": "code",
   "execution_count": 5,
   "metadata": {},
   "outputs": [
    {
     "name": "stdout",
     "output_type": "stream",
     "text": [
      "포스트 제목 : The Met Gala outfits were glorious, weird, and ripe for Twitter roasts\n"
     ]
    }
   ],
   "source": [
    "post = myFeed.entries[0]\n",
    "print('포스트 제목 :',post.title)"
   ]
  },
  {
   "cell_type": "code",
   "execution_count": 6,
   "metadata": {},
   "outputs": [
    {
     "ename": "AttributeError",
     "evalue": "object has no attribute 'content'",
     "output_type": "error",
     "traceback": [
      "\u001b[1;31m---------------------------------------------------------------------------\u001b[0m",
      "\u001b[1;31mKeyError\u001b[0m                                  Traceback (most recent call last)",
      "\u001b[1;32mC:\\ProgramData\\Anaconda3\\lib\\site-packages\\feedparser\\util.py\u001b[0m in \u001b[0;36m__getattr__\u001b[1;34m(self, key)\u001b[0m\n\u001b[0;32m    155\u001b[0m         \u001b[1;32mtry\u001b[0m\u001b[1;33m:\u001b[0m\u001b[1;33m\u001b[0m\u001b[1;33m\u001b[0m\u001b[0m\n\u001b[1;32m--> 156\u001b[1;33m             \u001b[1;32mreturn\u001b[0m \u001b[0mself\u001b[0m\u001b[1;33m.\u001b[0m\u001b[0m__getitem__\u001b[0m\u001b[1;33m(\u001b[0m\u001b[0mkey\u001b[0m\u001b[1;33m)\u001b[0m\u001b[1;33m\u001b[0m\u001b[1;33m\u001b[0m\u001b[0m\n\u001b[0m\u001b[0;32m    157\u001b[0m         \u001b[1;32mexcept\u001b[0m \u001b[0mKeyError\u001b[0m\u001b[1;33m:\u001b[0m\u001b[1;33m\u001b[0m\u001b[1;33m\u001b[0m\u001b[0m\n",
      "\u001b[1;32mC:\\ProgramData\\Anaconda3\\lib\\site-packages\\feedparser\\util.py\u001b[0m in \u001b[0;36m__getitem__\u001b[1;34m(self, key)\u001b[0m\n\u001b[0;32m    112\u001b[0m                 \u001b[1;32mreturn\u001b[0m \u001b[0mdict\u001b[0m\u001b[1;33m.\u001b[0m\u001b[0m__getitem__\u001b[0m\u001b[1;33m(\u001b[0m\u001b[0mself\u001b[0m\u001b[1;33m,\u001b[0m \u001b[0mrealkey\u001b[0m\u001b[1;33m)\u001b[0m\u001b[1;33m\u001b[0m\u001b[1;33m\u001b[0m\u001b[0m\n\u001b[1;32m--> 113\u001b[1;33m         \u001b[1;32mreturn\u001b[0m \u001b[0mdict\u001b[0m\u001b[1;33m.\u001b[0m\u001b[0m__getitem__\u001b[0m\u001b[1;33m(\u001b[0m\u001b[0mself\u001b[0m\u001b[1;33m,\u001b[0m \u001b[0mkey\u001b[0m\u001b[1;33m)\u001b[0m\u001b[1;33m\u001b[0m\u001b[1;33m\u001b[0m\u001b[0m\n\u001b[0m\u001b[0;32m    114\u001b[0m \u001b[1;33m\u001b[0m\u001b[0m\n",
      "\u001b[1;31mKeyError\u001b[0m: 'content'",
      "\nDuring handling of the above exception, another exception occurred:\n",
      "\u001b[1;31mAttributeError\u001b[0m                            Traceback (most recent call last)",
      "\u001b[1;32m<ipython-input-6-00bd47c9e54c>\u001b[0m in \u001b[0;36m<module>\u001b[1;34m\u001b[0m\n\u001b[1;32m----> 1\u001b[1;33m \u001b[0mcontent\u001b[0m \u001b[1;33m=\u001b[0m \u001b[0mpost\u001b[0m\u001b[1;33m.\u001b[0m\u001b[0mcontent\u001b[0m\u001b[1;33m[\u001b[0m\u001b[1;36m0\u001b[0m\u001b[1;33m]\u001b[0m\u001b[1;33m.\u001b[0m\u001b[0mvalue\u001b[0m\u001b[1;33m\u001b[0m\u001b[1;33m\u001b[0m\u001b[0m\n\u001b[0m\u001b[0;32m      2\u001b[0m \u001b[0mprint\u001b[0m\u001b[1;33m(\u001b[0m\u001b[1;34m\"콘텐츠 원본 : \\n\"\u001b[0m\u001b[1;33m,\u001b[0m\u001b[0mcontent\u001b[0m\u001b[1;33m)\u001b[0m\u001b[1;33m\u001b[0m\u001b[1;33m\u001b[0m\u001b[0m\n\u001b[0;32m      3\u001b[0m \u001b[1;33m\u001b[0m\u001b[0m\n\u001b[0;32m      4\u001b[0m \u001b[1;31m# 해당 원본자료의 content 값이 없습니다. 아래라인에서 summary로 탐색합니다.\u001b[0m\u001b[1;33m\u001b[0m\u001b[1;33m\u001b[0m\u001b[1;33m\u001b[0m\u001b[0m\n",
      "\u001b[1;32mC:\\ProgramData\\Anaconda3\\lib\\site-packages\\feedparser\\util.py\u001b[0m in \u001b[0;36m__getattr__\u001b[1;34m(self, key)\u001b[0m\n\u001b[0;32m    156\u001b[0m             \u001b[1;32mreturn\u001b[0m \u001b[0mself\u001b[0m\u001b[1;33m.\u001b[0m\u001b[0m__getitem__\u001b[0m\u001b[1;33m(\u001b[0m\u001b[0mkey\u001b[0m\u001b[1;33m)\u001b[0m\u001b[1;33m\u001b[0m\u001b[1;33m\u001b[0m\u001b[0m\n\u001b[0;32m    157\u001b[0m         \u001b[1;32mexcept\u001b[0m \u001b[0mKeyError\u001b[0m\u001b[1;33m:\u001b[0m\u001b[1;33m\u001b[0m\u001b[1;33m\u001b[0m\u001b[0m\n\u001b[1;32m--> 158\u001b[1;33m             \u001b[1;32mraise\u001b[0m \u001b[0mAttributeError\u001b[0m\u001b[1;33m(\u001b[0m\u001b[1;34m\"object has no attribute '%s'\"\u001b[0m \u001b[1;33m%\u001b[0m \u001b[0mkey\u001b[0m\u001b[1;33m)\u001b[0m\u001b[1;33m\u001b[0m\u001b[1;33m\u001b[0m\u001b[0m\n\u001b[0m\u001b[0;32m    159\u001b[0m \u001b[1;33m\u001b[0m\u001b[0m\n\u001b[0;32m    160\u001b[0m     \u001b[1;32mdef\u001b[0m \u001b[0m__hash__\u001b[0m\u001b[1;33m(\u001b[0m\u001b[0mself\u001b[0m\u001b[1;33m)\u001b[0m\u001b[1;33m:\u001b[0m\u001b[1;33m\u001b[0m\u001b[1;33m\u001b[0m\u001b[0m\n",
      "\u001b[1;31mAttributeError\u001b[0m: object has no attribute 'content'"
     ]
    }
   ],
   "source": [
    "content = post.content[0].value\n",
    "print(\"콘텐츠 원본 : \\n\",content)\n",
    "\n",
    "# 해당 원본자료의 content 값이 없습니다. 아래 라인에서 summary로 탐색합니다."
   ]
  },
  {
   "cell_type": "code",
   "execution_count": 33,
   "metadata": {},
   "outputs": [
    {
     "name": "stdout",
     "output_type": "stream",
     "text": [
      "콘텐츠 원본 : \n",
      " <img alt=\"\" src=\"https://helios-i.mashable.com/imagery/roundups/04ivyO96VDfrzqTywLQX0LB/hero-image.png\" /><p>Finding time for proper <a href=\"https://mashable.com/uk/roundup/best-dumbbells-uk\">workout</a> recovery is a luxury, but it shouldn't have to be like this. Between a job, social life, and chasing eight hours of sleep, workouts often get squeezed into the day's only free time slot. A proper cool down (let alone a massage) is usually the thing that gets glossed over, or skipped completely. What you need are the tools to help you stay on top of both your body and your schedule.</p><p>Enter the massage gun. Turns out that those mesmerising skin ripples are more than just a weird flex. This form of portable muscle therapy began with professional athletes but has trickled down into the lives of your average gym-goer who doesn't have the time or money for foam rolling sessions on sore days &ndash; that means you, us, everyone.</p><div class=\"w-full mx-auto max-w-3xl font-sans mt-8 text-lg leading-loose md:text-xl md:leading-7\">\n",
      "        <span class=\"font-bold text-primary-400\">SEE ALSO:</span>\n",
      "        <a class=\"text-secondary-300\" href=\"https://mashable.com/uk/roundup/best-protein-powders-uk\">\n",
      "            10 of the best protein powders for strength and recovery\n",
      "            <svg class=\"ml-1 w-4 h-4 fill-current inline-block font-normal\" xmlns=\"http://www.w3.org/2000/svg\"><use></use></svg>\n",
      "        </a>\n",
      "    </div>\n",
      "<p>The ability to give yourself a deep-tissue massage at home can be life-changing for anyone who knows the agony of chronic shoulder, neck, or back pain. When a cheap massage ball is too weak but weekly acupuncture is too daunting, a massage gun might be the perfect middle ground.</p><p>Look properly and you&rsquo;ll find a range of models, all with their own unique features and specifications to suit your muscle recover needs.</p><h2><b>How do massage guns work?</b></h2><p>Percussive therapy is the name of the game, and it's a more professional term for \"your muscles like it rough.\"</p><p>Athletes turn to deep-tissue massage for quick pain relief and faster recovery times. Here, a professional masseuse delivers forceful, rapid thumps to a specific area of the body to stimulate a specific set of muscles. The percussive therapy afforded by a massage gun lets individuals perform this same type of penetrative tissue attention on themselves without extra help, and these devices are said to provide hours worth of massage benefits in minutes.</p><p>Treating something that hurts like a punching bag may seem like the last thing it needs, but beating that damaged deep tissue into submission has a desensitising effect, and if you've ever tried a cheap massager on back knots, you know it takes some oomph to feel anything. These short-duration pulses enhance blood flow, soften knots, and accelerate the repair of muscle fibers, all of which can lead to better-prepared warmups and quicker recovery times. This form of <a href=\"https://abcnews.go.com/GMA/Wellness/percussion-therapy/story?id=66578343\">self-myofascial release</a> is huge for people who have a hard time keeping up with a routine due to <a href=\"https://www.vice.com/en_us/article/9k4gvy/being-sore-after-a-workout-doesnt-mean-your-muscles-are-growing\">delayed-onset muscle soreness</a>.</p><p>Your <a href=\"https://medium.com/thrive-global/how-massage-affects-your-mood-334663052773\">mood</a> might see a spike, too. The <a href=\"https://archive.attn.com/stories/5332/pressure-points-for-stress-relief\">pressure point relief</a> that massage provides has been linked to decreased levels of cortisol (the stress hormone), an increased production of endorphins (the feel-good chemical), and even a lower heart rate.</p><p>We should point out that percussive therapy isn't a fix-all. A massage gun may be able to replace pricey massage appointments or heckling your gym partner to help you stretch, but nutrients from a balanced diet, sleep, and getting proper hydration are still crucial to the muscle growth and recovery process.</p><h2><b>What are the most important features to consider?</b></h2><p>Frequent workout schedules and high pain levels might make a &pound;500 massage gun worth it &mdash; but in other cases, a less-intense device may be more beneficial. These are some factors to consider:</p><p><b>Percussion massagers vs. vibration massagers </b>&mdash; Not all pain is created equal. Percussion massagers mimic the kneading hands of a masseuse, providing pressure strong enough to hammer below the top layers and tend to damaged muscle fibers. This is ideal if heavy-duty workouts are your lifestyle, but 60 pounds of force may simply be too much in other situations. Occasional exercisers, seniors, and folks with chronic pain may prefer the surface-level rumbling of a vibration massager, which provides the same speedy pulses with less \"punch\" for a more relaxing experience. Vibration massagers usually oscillate in more rapid strokes with less horsepower.</p><p><b>Customisation options </b>&mdash; You wouldn't massage a bony spine like you would a shoulder with a tough knot &mdash;&nbsp;you don't need a professional to tell you that. If you have multiple muscle categories that need to be worked on and varying levels of strain, look for a device that offers different speeds (RPM) and attachment heads to target each specific muscle group. When comparing specs, remember that higher speed doesn't always mean vigor. The amplitude (how deep the massage head will push into your body) relies on the amount of force behind each pulse, and heavier force on a slow RPM setting will feel more intense&nbsp;than a faster RPM setting with weaker force.&nbsp;</p><p><b>Noise</b> &mdash; No one wants to sit in a public place (or at home with a sleeping baby) using a device that sounds like a construction site. It might be impossible for these drill-like massage guns to be completely silent, but the reviews will let you know if the noise is tolerable or obnoxious.</p><p><b>Battery life</b> &mdash; Many people depend on their massage gun for a rushed cool down in the middle of a busy schedule, and charging after every use is a huge inconvenience. The best massage guns will get up to three hours of battery life while the weaker ones max out at around 40 minutes.</p><p>There are obviously other factors to think about before purchasing anything, but keeping these things in mind is a good place to start.</p><h2><b>What is the best massage gun?</b></h2><p>There is a lot to know about massage guns, and it's important to do your research before making a purchase. To make your job a little easier, we have tracked down six examples of devices that cover all the bases. </p><p>We've tried to find something for everyone and every budget. You can find impressive models from top brands like <a href=\"https://zdcs.link/wqEkx\">Theragun</a> and <a href=\"https://r.zdbb.net/u/blax\">Oyria</a>. You just need to scroll through the options and pick a favourite. Your muscles will thank you.</p><p>These are the best massage guns in 2021.</p><img alt=\"\" height=\"1\" src=\"http://feeds.feedburner.com/~r/Mashable/~4/JjwB7Dtv1Jo\" width=\"1\" />\n"
     ]
    }
   ],
   "source": [
    "content = post.summary\n",
    "print(\"콘텐츠 원본 : \\n\",content)"
   ]
  },
  {
   "cell_type": "code",
   "execution_count": null,
   "metadata": {},
   "outputs": [],
   "source": []
  }
 ],
 "metadata": {
  "kernelspec": {
   "display_name": "Python 3",
   "language": "python",
   "name": "python3"
  },
  "language_info": {
   "codemirror_mode": {
    "name": "ipython",
    "version": 3
   },
   "file_extension": ".py",
   "mimetype": "text/x-python",
   "name": "python",
   "nbconvert_exporter": "python",
   "pygments_lexer": "ipython3",
   "version": "3.8.3"
  }
 },
 "nbformat": 4,
 "nbformat_minor": 4
}

{
 "cells": [
  {
   "cell_type": "code",
   "execution_count": 7,
   "metadata": {
    "colab": {
     "base_uri": "https://localhost:8080/"
    },
    "id": "lWRPasWYXL7b",
    "outputId": "7d3e6586-6e5b-4cfd-c4b4-15deca3e0885"
   },
   "outputs": [
    {
     "name": "stdout",
     "output_type": "stream",
     "text": [
      "Reading package lists... Done\n",
      "Building dependency tree       \n",
      "Reading state information... Done\n",
      "The following NEW packages will be installed:\n",
      "  xvfb\n",
      "0 upgraded, 1 newly installed, 0 to remove and 37 not upgraded.\n",
      "Need to get 784 kB of archives.\n",
      "After this operation, 2,270 kB of additional disk space will be used.\n",
      "Get:1 http://archive.ubuntu.com/ubuntu bionic-updates/universe amd64 xvfb amd64 2:1.19.6-1ubuntu4.9 [784 kB]\n",
      "Fetched 784 kB in 1s (1,022 kB/s)\n",
      "Selecting previously unselected package xvfb.\n",
      "(Reading database ... 155047 files and directories currently installed.)\n",
      "Preparing to unpack .../xvfb_2%3a1.19.6-1ubuntu4.9_amd64.deb ...\n",
      "Unpacking xvfb (2:1.19.6-1ubuntu4.9) ...\n",
      "Setting up xvfb (2:1.19.6-1ubuntu4.9) ...\n",
      "Processing triggers for man-db (2.8.3-2ubuntu0.1) ...\n",
      "Reading package lists... Done\n",
      "Building dependency tree       \n",
      "Reading state information... Done\n",
      "python3-tk is already the newest version (3.6.9-1~18.04).\n",
      "The following additional packages will be installed:\n",
      "  fonts-droid-fallback fonts-noto-mono gsfonts libcupsfilters1 libcupsimage2\n",
      "  libgs9 libgs9-common libijs-0.35 libjbig2dec0 poppler-data\n",
      "Suggested packages:\n",
      "  fonts-noto ghostscript-x poppler-utils fonts-japanese-mincho\n",
      "  | fonts-ipafont-mincho fonts-japanese-gothic | fonts-ipafont-gothic\n",
      "  fonts-arphic-ukai fonts-arphic-uming fonts-nanum\n",
      "The following NEW packages will be installed:\n",
      "  fonts-droid-fallback fonts-noto-mono ghostscript gsfonts libcupsfilters1\n",
      "  libcupsimage2 libgs9 libgs9-common libijs-0.35 libjbig2dec0 poppler-data\n",
      "0 upgraded, 11 newly installed, 0 to remove and 37 not upgraded.\n",
      "Need to get 14.1 MB of archives.\n",
      "After this operation, 49.9 MB of additional disk space will be used.\n",
      "Get:1 http://archive.ubuntu.com/ubuntu bionic/main amd64 fonts-droid-fallback all 1:6.0.1r16-1.1 [1,805 kB]\n",
      "Get:2 http://archive.ubuntu.com/ubuntu bionic/main amd64 poppler-data all 0.4.8-2 [1,479 kB]\n",
      "Get:3 http://archive.ubuntu.com/ubuntu bionic/main amd64 fonts-noto-mono all 20171026-2 [75.5 kB]\n",
      "Get:4 http://archive.ubuntu.com/ubuntu bionic-updates/main amd64 libcupsimage2 amd64 2.2.7-1ubuntu2.8 [18.6 kB]\n",
      "Get:5 http://archive.ubuntu.com/ubuntu bionic/main amd64 libijs-0.35 amd64 0.35-13 [15.5 kB]\n",
      "Get:6 http://archive.ubuntu.com/ubuntu bionic/main amd64 libjbig2dec0 amd64 0.13-6 [55.9 kB]\n",
      "Get:7 http://archive.ubuntu.com/ubuntu bionic-updates/main amd64 libgs9-common all 9.26~dfsg+0-0ubuntu0.18.04.14 [5,092 kB]\n",
      "Get:8 http://archive.ubuntu.com/ubuntu bionic-updates/main amd64 libgs9 amd64 9.26~dfsg+0-0ubuntu0.18.04.14 [2,265 kB]\n",
      "Get:9 http://archive.ubuntu.com/ubuntu bionic-updates/main amd64 ghostscript amd64 9.26~dfsg+0-0ubuntu0.18.04.14 [51.3 kB]\n",
      "Get:10 http://archive.ubuntu.com/ubuntu bionic/main amd64 gsfonts all 1:8.11+urwcyr1.0.7~pre44-4.4 [3,120 kB]\n",
      "Get:11 http://archive.ubuntu.com/ubuntu bionic-updates/main amd64 libcupsfilters1 amd64 1.20.2-0ubuntu3.1 [108 kB]\n",
      "Fetched 14.1 MB in 1s (9,733 kB/s)\n",
      "Selecting previously unselected package fonts-droid-fallback.\n",
      "(Reading database ... 155054 files and directories currently installed.)\n",
      "Preparing to unpack .../00-fonts-droid-fallback_1%3a6.0.1r16-1.1_all.deb ...\n",
      "Unpacking fonts-droid-fallback (1:6.0.1r16-1.1) ...\n",
      "Selecting previously unselected package poppler-data.\n",
      "Preparing to unpack .../01-poppler-data_0.4.8-2_all.deb ...\n",
      "Unpacking poppler-data (0.4.8-2) ...\n",
      "Selecting previously unselected package fonts-noto-mono.\n",
      "Preparing to unpack .../02-fonts-noto-mono_20171026-2_all.deb ...\n",
      "Unpacking fonts-noto-mono (20171026-2) ...\n",
      "Selecting previously unselected package libcupsimage2:amd64.\n",
      "Preparing to unpack .../03-libcupsimage2_2.2.7-1ubuntu2.8_amd64.deb ...\n",
      "Unpacking libcupsimage2:amd64 (2.2.7-1ubuntu2.8) ...\n",
      "Selecting previously unselected package libijs-0.35:amd64.\n",
      "Preparing to unpack .../04-libijs-0.35_0.35-13_amd64.deb ...\n",
      "Unpacking libijs-0.35:amd64 (0.35-13) ...\n",
      "Selecting previously unselected package libjbig2dec0:amd64.\n",
      "Preparing to unpack .../05-libjbig2dec0_0.13-6_amd64.deb ...\n",
      "Unpacking libjbig2dec0:amd64 (0.13-6) ...\n",
      "Selecting previously unselected package libgs9-common.\n",
      "Preparing to unpack .../06-libgs9-common_9.26~dfsg+0-0ubuntu0.18.04.14_all.deb ...\n",
      "Unpacking libgs9-common (9.26~dfsg+0-0ubuntu0.18.04.14) ...\n",
      "Selecting previously unselected package libgs9:amd64.\n",
      "Preparing to unpack .../07-libgs9_9.26~dfsg+0-0ubuntu0.18.04.14_amd64.deb ...\n",
      "Unpacking libgs9:amd64 (9.26~dfsg+0-0ubuntu0.18.04.14) ...\n",
      "Selecting previously unselected package ghostscript.\n",
      "Preparing to unpack .../08-ghostscript_9.26~dfsg+0-0ubuntu0.18.04.14_amd64.deb ...\n",
      "Unpacking ghostscript (9.26~dfsg+0-0ubuntu0.18.04.14) ...\n",
      "Selecting previously unselected package gsfonts.\n",
      "Preparing to unpack .../09-gsfonts_1%3a8.11+urwcyr1.0.7~pre44-4.4_all.deb ...\n",
      "Unpacking gsfonts (1:8.11+urwcyr1.0.7~pre44-4.4) ...\n",
      "Selecting previously unselected package libcupsfilters1:amd64.\n",
      "Preparing to unpack .../10-libcupsfilters1_1.20.2-0ubuntu3.1_amd64.deb ...\n",
      "Unpacking libcupsfilters1:amd64 (1.20.2-0ubuntu3.1) ...\n",
      "Setting up libgs9-common (9.26~dfsg+0-0ubuntu0.18.04.14) ...\n",
      "Setting up fonts-droid-fallback (1:6.0.1r16-1.1) ...\n",
      "Setting up gsfonts (1:8.11+urwcyr1.0.7~pre44-4.4) ...\n",
      "Setting up poppler-data (0.4.8-2) ...\n",
      "Setting up fonts-noto-mono (20171026-2) ...\n",
      "Setting up libcupsfilters1:amd64 (1.20.2-0ubuntu3.1) ...\n",
      "Setting up libcupsimage2:amd64 (2.2.7-1ubuntu2.8) ...\n",
      "Setting up libjbig2dec0:amd64 (0.13-6) ...\n",
      "Setting up libijs-0.35:amd64 (0.35-13) ...\n",
      "Setting up libgs9:amd64 (9.26~dfsg+0-0ubuntu0.18.04.14) ...\n",
      "Setting up ghostscript (9.26~dfsg+0-0ubuntu0.18.04.14) ...\n",
      "Processing triggers for man-db (2.8.3-2ubuntu0.1) ...\n",
      "Processing triggers for fontconfig (2.12.6-0ubuntu2) ...\n",
      "Processing triggers for libc-bin (2.27-3ubuntu1.3) ...\n",
      "/sbin/ldconfig.real: /usr/local/lib/python3.7/dist-packages/ideep4py/lib/libmkldnn.so.0 is not a symbolic link\n",
      "\n"
     ]
    }
   ],
   "source": [
    "!apt-get install -y xvfb \n",
    "import os\n",
    "os.system('Xvfb :1 -screen 0 1600x1200x16  &')  \n",
    "os.environ['DISPLAY']=':1.0'\n",
    "\n",
    "%matplotlib inline\n",
    "!apt install ghostscript python3-tk"
   ]
  },
  {
   "cell_type": "code",
   "execution_count": 40,
   "metadata": {
    "colab": {
     "base_uri": "https://localhost:8080/"
    },
    "id": "FcAKSKTRWyAh",
    "outputId": "c44e325f-9bb4-42fb-e828-d885e68ce293"
   },
   "outputs": [
    {
     "name": "stdout",
     "output_type": "stream",
     "text": [
      "[nltk_data] Downloading package punkt to /root/nltk_data...\n",
      "[nltk_data]   Package punkt is already up-to-date!\n"
     ]
    },
    {
     "data": {
      "text/plain": [
       "True"
      ]
     },
     "execution_count": 40,
     "metadata": {},
     "output_type": "execute_result"
    }
   ],
   "source": [
    "import nltk\n",
    "from IPython.display import display\n",
    "nltk.download('punkt')"
   ]
  },
  {
   "cell_type": "code",
   "execution_count": 41,
   "metadata": {
    "id": "kFofgl5HW55N"
   },
   "outputs": [],
   "source": [
    "def SRParserExample(grammar, textlist):\n",
    "    parser = nltk.parse.ShiftReduceParser(grammar)\n",
    "    for text in textlist:\n",
    "        sentence = nltk.word_tokenize(text)\n",
    "        for tree in parser.parse(sentence):\n",
    "            print(tree)\n",
    "#            tree.draw()\n",
    "            display(tree)"
   ]
  },
  {
   "cell_type": "code",
   "execution_count": 70,
   "metadata": {
    "id": "xI-EdCT0W39X"
   },
   "outputs": [],
   "source": [
    "grammar = nltk.CFG.fromstring(\"\"\"\n",
    "S -> NP VP\n",
    "NP -> NNP VBZ\n",
    "VP -> IN NNP | DT NN IN NNP | DT NN VP\n",
    "NNP -> 'Tajmahal' | 'Agra' | 'Bangalore' | 'Karnataka'\n",
    "VBZ -> 'is'\n",
    "IN -> 'in' | 'of'\n",
    "DT -> 'the'\n",
    "NN -> 'capital'\n",
    "\"\"\")"
   ]
  },
  {
   "cell_type": "code",
   "execution_count": 71,
   "metadata": {
    "id": "In1OHgrEW5al"
   },
   "outputs": [],
   "source": [
    "text = [\n",
    "    \"Tajmahal is in Agra\",\n",
    "    \"Bangalore is the capital of Karnataka\",\n",
    "]"
   ]
  },
  {
   "cell_type": "code",
   "execution_count": 72,
   "metadata": {
    "colab": {
     "base_uri": "https://localhost:8080/",
     "height": 430
    },
    "id": "AaxPC9etXGY3",
    "outputId": "a4e36410-fef7-4792-a254-8186a6dfedc4"
   },
   "outputs": [
    {
     "name": "stdout",
     "output_type": "stream",
     "text": [
      "(S (NP (NNP Tajmahal) (VBZ is)) (VP (IN in) (NNP Agra)))\n"
     ]
    },
    {
     "data": {
      "image/png": "[encoded data removed]",
      "text/plain": [
       "Tree('S', [Tree('NP', [Tree('NNP', ['Tajmahal']), Tree('VBZ', ['is'])]), Tree('VP', [Tree('IN', ['in']), Tree('NNP', ['Agra'])])])"
      ]
     },
     "metadata": {},
     "output_type": "display_data"
    },
    {
     "name": "stdout",
     "output_type": "stream",
     "text": [
      "(S\n",
      "  (NP (NNP Bangalore) (VBZ is))\n",
      "  (VP (DT the) (NN capital) (VP (IN of) (NNP Karnataka))))\n"
     ]
    },
    {
     "data": {
      "image/png": "[encoded data removed]",
      "text/plain": [
       "Tree('S', [Tree('NP', [Tree('NNP', ['Bangalore']), Tree('VBZ', ['is'])]), Tree('VP', [Tree('DT', ['the']), Tree('NN', ['capital']), Tree('VP', [Tree('IN', ['of']), Tree('NNP', ['Karnataka'])])])])"
      ]
     },
     "metadata": {},
     "output_type": "display_data"
    }
   ],
   "source": [
    "SRParserExample(grammar, text)"
   ]
  },
  {
   "cell_type": "code",
   "execution_count": null,
   "metadata": {
    "id": "07DGSQ1VYFO_"
   },
   "outputs": [],
   "source": []
  }
 ],
 "metadata": {
  "colab": {
   "name": "ParsingSR.ipynb",
   "provenance": []
  },
  "kernelspec": {
   "display_name": "Python 3",
   "language": "python",
   "name": "python3"
  },
  "language_info": {
   "codemirror_mode": {
    "name": "ipython",
    "version": 3
   },
   "file_extension": ".py",
   "mimetype": "text/x-python",
   "name": "python",
   "nbconvert_exporter": "python",
   "pygments_lexer": "ipython3",
   "version": "3.8.3"
  }
 },
 "nbformat": 4,
 "nbformat_minor": 1
}

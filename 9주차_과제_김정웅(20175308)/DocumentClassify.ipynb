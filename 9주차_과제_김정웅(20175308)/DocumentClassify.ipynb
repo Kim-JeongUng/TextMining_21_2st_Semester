{
 "cells": [
  {
   "cell_type": "code",
   "execution_count": 1,
   "metadata": {},
   "outputs": [],
   "source": [
    "import nltk\n",
    "import random\n",
    "import feedparser"
   ]
  },
  {
   "cell_type": "code",
   "execution_count": 2,
   "metadata": {},
   "outputs": [],
   "source": [
    "urls = {\n",
    "    'mlb': 'https://sports.yahoo.com/mlb/rss.xml',\n",
    "    'nfl': 'https://sports.yahoo.com/nfl/rss.xml',\n",
    "}"
   ]
  },
  {
   "cell_type": "code",
   "execution_count": 3,
   "metadata": {},
   "outputs": [],
   "source": [
    "feedmap = {}\n",
    "stopwords = nltk.corpus.stopwords.words('english')"
   ]
  },
  {
   "cell_type": "code",
   "execution_count": 4,
   "metadata": {},
   "outputs": [],
   "source": [
    "def featureExtractor(words):\n",
    "    features = {}\n",
    "    for word in words:\n",
    "        if word not in stopwords:\n",
    "            features[\"word({})\".format(word)] = True\n",
    "    return features"
   ]
  },
  {
   "cell_type": "code",
   "execution_count": 5,
   "metadata": {},
   "outputs": [],
   "source": [
    "sentences = []"
   ]
  },
  {
   "cell_type": "code",
   "execution_count": 6,
   "metadata": {},
   "outputs": [
    {
     "name": "stdout",
     "output_type": "stream",
     "text": [
      "downloading https://sports.yahoo.com/mlb/rss.xml\n",
      "downloading https://sports.yahoo.com/nfl/rss.xml\n"
     ]
    }
   ],
   "source": [
    "for category in urls.keys():\n",
    "    feedmap[category] = feedparser.parse(urls[category])\n",
    "    print(\"downloading {}\".format(urls[category]))\n",
    "    for entry in feedmap[category]['entries']:\n",
    "        data = entry['summary']\n",
    "        words = data.split()\n",
    "        sentences.append((category, words))"
   ]
  },
  {
   "cell_type": "code",
   "execution_count": 7,
   "metadata": {},
   "outputs": [],
   "source": [
    "featuresets = [(featureExtractor(words), category) for category, words in sentences]\n",
    "random.shuffle(featuresets)"
   ]
  },
  {
   "cell_type": "code",
   "execution_count": 8,
   "metadata": {},
   "outputs": [],
   "source": [
    "total = len(featuresets)\n",
    "off = int(total/2)\n",
    "trainset = featuresets[off:]\n",
    "testset = featuresets[:off]"
   ]
  },
  {
   "cell_type": "code",
   "execution_count": 9,
   "metadata": {},
   "outputs": [],
   "source": [
    "classifier = nltk.NaiveBayesClassifier.train(trainset)"
   ]
  },
  {
   "cell_type": "code",
   "execution_count": 10,
   "metadata": {},
   "outputs": [
    {
     "name": "stdout",
     "output_type": "stream",
     "text": [
      "0.9607843137254902\n"
     ]
    }
   ],
   "source": [
    "print(nltk.classify.accuracy(classifier, testset))"
   ]
  },
  {
   "cell_type": "code",
   "execution_count": 11,
   "metadata": {},
   "outputs": [
    {
     "name": "stdout",
     "output_type": "stream",
     "text": [
      "Most Informative Features\n",
      "              word(This) = True              nfl : mlb    =      4.2 : 1.0\n",
      "              word(time) = True              mlb : nfl    =      3.1 : 1.0\n",
      "             word(first) = True              mlb : nfl    =      2.7 : 1.0\n",
      "               word(New) = True              nfl : mlb    =      2.3 : 1.0\n",
      "            word(Monday) = True              nfl : mlb    =      2.2 : 1.0\n",
      "nfl -> Tony Romo, CBS's top NFL commentator, suggested that the fan who got Tom Brady's 600th TD ball ask for \"a date with Gisele.\" It was crude and unacceptable.\n",
      "nfl -> After a three-week hiatus, Peyton and Eli Manning delivered jokes, insults and insights during their \"Monday Night Football\" broadcast.\n",
      "nfl -> NFL predictions and picks for Week 8 from the College Football News experts.\n",
      "nfl -> They did not hold a full practice, so see what estimated participation would have been like.\n"
     ]
    }
   ],
   "source": [
    "classifier.show_most_informative_features(5)\n",
    "for (i, entry) in enumerate(feedmap['nfl']['entries']):\n",
    "    if i < 4:\n",
    "        features = featureExtractor(entry['title'].split())\n",
    "        category = classifier.classify(features)\n",
    "        print('{} -> {}'.format(category, entry['summary']))"
   ]
  },
  {
   "cell_type": "code",
   "execution_count": null,
   "metadata": {},
   "outputs": [],
   "source": []
  }
 ],
 "metadata": {
  "kernelspec": {
   "display_name": "Python 3",
   "language": "python",
   "name": "python3"
  },
  "language_info": {
   "codemirror_mode": {
    "name": "ipython",
    "version": 3
   },
   "file_extension": ".py",
   "mimetype": "text/x-python",
   "name": "python",
   "nbconvert_exporter": "python",
   "pygments_lexer": "ipython3",
   "version": "3.8.3"
  }
 },
 "nbformat": 4,
 "nbformat_minor": 4
}

{
 "cells": [
  {
   "cell_type": "code",
   "execution_count": 1,
   "metadata": {},
   "outputs": [],
   "source": [
    "import nltk\n",
    "import random"
   ]
  },
  {
   "cell_type": "code",
   "execution_count": 3,
   "metadata": {},
   "outputs": [],
   "source": [
    "sampledata = [\n",
    "    ('KA-01-F 1034 A', 'rtc'),\n",
    "    ('KA-02-F 1030 B', 'rtc'),\n",
    "    ('KA-03-FA 1200 C', 'rtc'),\n",
    "    ('KA-01-G 0001 A', 'gov'),\n",
    "    ('KA-02-G 1004 A', 'gov'),\n",
    "    ('KA-03-G 0204 A', 'gov'),\n",
    "    ('KA-04-G 9230 A', 'gov'),\n",
    "    ('KA-27 1290', 'oth')\n",
    "]\n",
    "random.shuffle(sampledata)"
   ]
  },
  {
   "cell_type": "code",
   "execution_count": 4,
   "metadata": {},
   "outputs": [],
   "source": [
    "testdata = [\n",
    "    'KA-01-G 0109',\n",
    "    'KA-02-F 9020 AC',\n",
    "    'KA-02-FA 0801',\n",
    "    'KA-01 9129'\n",
    "]"
   ]
  },
  {
   "cell_type": "code",
   "execution_count": 11,
   "metadata": {},
   "outputs": [],
   "source": [
    "def learnSimpleFeatures():\n",
    "    def vehicleNumberFeature(vnumber):\n",
    "        return {'vehicle_class': vnumber[6]}\n",
    "    featuresets = [(vehicleNumberFeature(vn), cls) for (vn, cls) in sampledata]\n",
    "    classifier = nltk.NaiveBayesClassifier.train(featuresets)\n",
    "    for num in testdata:\n",
    "        feature = vehicleNumberFeature(num)\n",
    "        print(\"(simple) %s is of type %s\" %(num, classifier.classify(feature)))"
   ]
  },
  {
   "cell_type": "code",
   "execution_count": 12,
   "metadata": {},
   "outputs": [],
   "source": [
    "def learnFeatures():\n",
    "    def vehicleNumberFeature(vnumber):\n",
    "        return {\n",
    "            'vehicle_class': vnumber[6],\n",
    "            'vehicle_prev': vnumber[5]\n",
    "        }\n",
    "    featuresets = [(vehicleNumberFeature(vn), cls) for (vn, cls) in sampledata]\n",
    "    classifier = nltk.NaiveBayesClassifier.train(featuresets)\n",
    "    for num in testdata:\n",
    "        feature = vehicleNumberFeature(num)\n",
    "        print(\"(dual) %s is of type %s\" %(num, classifier.classify(feature)))"
   ]
  },
  {
   "cell_type": "code",
   "execution_count": 13,
   "metadata": {},
   "outputs": [
    {
     "name": "stdout",
     "output_type": "stream",
     "text": [
      "(simple) KA-01-G 0109 is of type gov\n",
      "(simple) KA-02-F 9020 AC is of type rtc\n",
      "(simple) KA-02-FA 0801 is of type rtc\n",
      "(simple) KA-01 9129 is of type gov\n",
      "(dual) KA-01-G 0109 is of type gov\n",
      "(dual) KA-02-F 9020 AC is of type rtc\n",
      "(dual) KA-02-FA 0801 is of type rtc\n",
      "(dual) KA-01 9129 is of type oth\n"
     ]
    }
   ],
   "source": [
    "learnSimpleFeatures()\n",
    "learnFeatures()"
   ]
  },
  {
   "cell_type": "code",
   "execution_count": null,
   "metadata": {},
   "outputs": [],
   "source": []
  }
 ],
 "metadata": {
  "kernelspec": {
   "display_name": "Python 3",
   "language": "python",
   "name": "python3"
  },
  "language_info": {
   "codemirror_mode": {
    "name": "ipython",
    "version": 3
   },
   "file_extension": ".py",
   "mimetype": "text/x-python",
   "name": "python",
   "nbconvert_exporter": "python",
   "pygments_lexer": "ipython3",
   "version": "3.8.3"
  }
 },
 "nbformat": 4,
 "nbformat_minor": 4
}

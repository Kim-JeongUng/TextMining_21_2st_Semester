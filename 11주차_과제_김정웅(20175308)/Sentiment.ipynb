{
  "nbformat": 4,
  "nbformat_minor": 0,
  "metadata": {
    "colab": {
      "name": "Sentiment.ipynb",
      "provenance": [],
      "collapsed_sections": []
    },
    "kernelspec": {
      "name": "python3",
      "display_name": "Python 3"
    },
    "language_info": {
      "name": "python"
    }
  },
  "cells": [
    {
      "cell_type": "code",
      "metadata": {
        "colab": {
          "base_uri": "https://localhost:8080/"
        },
        "id": "OLr___cS_slL",
        "outputId": "9dcceae5-74a0-4521-d51d-85e9eaf455ef"
      },
      "source": [
        "import nltk\n",
        "import nltk.sentiment.sentiment_analyzer"
      ],
      "execution_count": 1,
      "outputs": [
        {
          "output_type": "stream",
          "name": "stderr",
          "text": [
            "/usr/local/lib/python3.7/dist-packages/nltk/twitter/__init__.py:20: UserWarning: The twython library has not been installed. Some functionality from the twitter package will not be available.\n",
            "  warnings.warn(\"The twython library has not been installed. \"\n"
          ]
        }
      ]
    },
    {
      "cell_type": "code",
      "metadata": {
        "id": "FI-XFcyx_u-S"
      },
      "source": [
        "def wordBasedSentiment():\n",
        "    positive_words = ['love', 'hope', 'joy']\n",
        "    text = 'Rainfall this year brings lot of hope and joy to Farmers.'.split()\n",
        "    analysis = nltk.sentiment.util.extract_unigram_feats(text, positive_words)\n",
        "    print(' -- single word sentiment --')\n",
        "    print(analysis)"
      ],
      "execution_count": 3,
      "outputs": []
    },
    {
      "cell_type": "code",
      "metadata": {
        "id": "QzNCiRrN_yD2"
      },
      "source": [
        "def multiWordBasedSentiment():\n",
        "    word_sets = [('heavy', 'rains'), ('flood', 'bengaluru')]\n",
        "    text = 'heavy rains cause flash flooding in bengaluru'.split()\n",
        "    analysis = nltk.sentiment.util.extract_bigram_feats(text, word_sets)\n",
        "    print(' -- multi word sentiment --')\n",
        "    print(analysis)"
      ],
      "execution_count": 4,
      "outputs": []
    },
    {
      "cell_type": "code",
      "metadata": {
        "id": "iCMbh8pv_y-I"
      },
      "source": [
        "def markNegativity():\n",
        "    text = 'Rainfall last year did not bring joy to Farmers'.split()\n",
        "    negation = nltk.sentiment.util.mark_negation(text)\n",
        "    print(' -- negativity --')\n",
        "    print(negation)\n"
      ],
      "execution_count": 5,
      "outputs": []
    },
    {
      "cell_type": "code",
      "metadata": {
        "colab": {
          "base_uri": "https://localhost:8080/"
        },
        "id": "X7EE2OlT_08f",
        "outputId": "6238aca8-5ddd-46db-c8ce-9191f586f106"
      },
      "source": [
        "if __name__ == '__main__':\n",
        "    wordBasedSentiment()\n",
        "    multiWordBasedSentiment()\n",
        "    markNegativity()"
      ],
      "execution_count": 6,
      "outputs": [
        {
          "output_type": "stream",
          "name": "stdout",
          "text": [
            " -- single word sentiment --\n",
            "{'contains(love)': False, 'contains(hope)': True, 'contains(joy)': True}\n",
            " -- multi word sentiment --\n",
            "{'contains(heavy - rains)': True, 'contains(flood - bengaluru)': False}\n",
            " -- negativity --\n",
            "['Rainfall', 'last', 'year', 'did', 'not', 'bring_NEG', 'joy_NEG', 'to_NEG', 'Farmers_NEG']\n"
          ]
        }
      ]
    },
    {
      "cell_type": "code",
      "metadata": {
        "id": "COz3jQTs_1QV"
      },
      "source": [
        ""
      ],
      "execution_count": null,
      "outputs": []
    }
  ]
}
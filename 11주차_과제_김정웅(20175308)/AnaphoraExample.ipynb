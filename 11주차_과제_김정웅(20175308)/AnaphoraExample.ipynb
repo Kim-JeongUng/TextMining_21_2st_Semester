{
  "nbformat": 4,
  "nbformat_minor": 0,
  "metadata": {
    "colab": {
      "name": "AnaphoraExample.ipynb",
      "provenance": []
    },
    "kernelspec": {
      "name": "python3",
      "display_name": "Python 3"
    },
    "language_info": {
      "name": "python"
    }
  },
  "cells": [
    {
      "cell_type": "code",
      "metadata": {
        "colab": {
          "base_uri": "https://localhost:8080/"
        },
        "id": "kCtPYlYL9xSs",
        "outputId": "371e757a-c9bd-4653-e55a-9aad606df255"
      },
      "source": [
        "nltk.download('names')\n",
        "nltk.download('punkt')\n",
        "nltk.download('averaged_perceptron_tagger')\n",
        "nltk.download('maxent_ne_chunker')\n",
        "nltk.download('words')\n",
        "import nltk\n",
        "from nltk.chunk import tree2conlltags\n",
        "from nltk.corpus import names\n",
        "import random"
      ],
      "execution_count": 18,
      "outputs": [
        {
          "output_type": "stream",
          "name": "stdout",
          "text": [
            "[nltk_data] Downloading package names to /root/nltk_data...\n",
            "[nltk_data]   Package names is already up-to-date!\n",
            "[nltk_data] Downloading package punkt to /root/nltk_data...\n",
            "[nltk_data]   Package punkt is already up-to-date!\n",
            "[nltk_data] Downloading package averaged_perceptron_tagger to\n",
            "[nltk_data]     /root/nltk_data...\n",
            "[nltk_data]   Package averaged_perceptron_tagger is already up-to-\n",
            "[nltk_data]       date!\n",
            "[nltk_data] Downloading package maxent_ne_chunker to\n",
            "[nltk_data]     /root/nltk_data...\n",
            "[nltk_data]   Package maxent_ne_chunker is already up-to-date!\n",
            "[nltk_data] Downloading package words to /root/nltk_data...\n",
            "[nltk_data]   Unzipping corpora/words.zip.\n"
          ]
        }
      ]
    },
    {
      "cell_type": "code",
      "metadata": {
        "id": "dcb_64Ft-Ewl"
      },
      "source": [
        "class AnaphoraExample:\n",
        "    def __init__(self):\n",
        "        males = [(name, 'male') for name in names.words('male.txt')]\n",
        "        females = [(name, 'female') for name in names.words('female.txt')]\n",
        "        combined = males + females\n",
        "        random.shuffle(combined)\n",
        "        training = [(self.feature(name), gender) for (name, gender) in combined]\n",
        "        self._classifier = nltk.NaiveBayesClassifier.train(training)\n",
        "        \n",
        "    def feature(self, word):\n",
        "        return {'last(1)' : word[-1]}\n",
        "\n",
        "    def gender(self, word):\n",
        "        return self._classifier.classify(self.feature(word))\n",
        "\n",
        "    def learnAnaphora(self):\n",
        "        sentences = [\n",
        "            \"John is a man. He walks\",\n",
        "            \"John and Mary are married. They have two kids\",\n",
        "            \"In order for Ravi to be successful, he should follow John\",\n",
        "            \"John met Mary in Barista. She asked him to order a Pizza\"\n",
        "        ]\n",
        "\n",
        "        for sent in sentences:\n",
        "            chunks = nltk.ne_chunk(nltk.pos_tag(nltk.word_tokenize(sent)), binary=False)\n",
        "            stack = []\n",
        "            print(sent)\n",
        "            items = tree2conlltags(chunks)\n",
        "            for item in items:\n",
        "                if item[1] == 'NNP' and (item[2] == 'B-PERSON' or item[2] == 'O'):\n",
        "                    stack.append((item[0], self.gender(item[0])))\n",
        "                elif item[1] == 'CC':\n",
        "                    stack.append(item[0])\n",
        "                elif item[1] == 'PRP':\n",
        "                    stack.append(item[0])\n",
        "            print(\"\\t {}\".format(stack))\n"
      ],
      "execution_count": 19,
      "outputs": []
    },
    {
      "cell_type": "code",
      "metadata": {
        "colab": {
          "base_uri": "https://localhost:8080/"
        },
        "id": "wslNxA9t-KQc",
        "outputId": "eecb3f84-2558-4c53-afbb-6a539ccb9280"
      },
      "source": [
        "anaphora = AnaphoraExample()\n",
        "anaphora.learnAnaphora()"
      ],
      "execution_count": 20,
      "outputs": [
        {
          "output_type": "stream",
          "name": "stdout",
          "text": [
            "John is a man. He walks\n",
            "\t [('John', 'male'), 'He']\n",
            "John and Mary are married. They have two kids\n",
            "\t [('John', 'male'), 'and', ('Mary', 'female'), 'They']\n",
            "In order for Ravi to be successful, he should follow John\n",
            "\t [('Ravi', 'female'), 'he', ('John', 'male')]\n",
            "John met Mary in Barista. She asked him to order a Pizza\n",
            "\t [('John', 'male'), ('Mary', 'female'), 'She', 'him']\n"
          ]
        }
      ]
    },
    {
      "cell_type": "code",
      "metadata": {
        "id": "2FywEkzE-Km8"
      },
      "source": [
        ""
      ],
      "execution_count": null,
      "outputs": []
    }
  ]
}
{
  "nbformat": 4,
  "nbformat_minor": 0,
  "metadata": {
    "colab": {
      "name": "Advsentiment.ipynb",
      "provenance": []
    },
    "kernelspec": {
      "name": "python3",
      "display_name": "Python 3"
    },
    "language_info": {
      "name": "python"
    }
  },
  "cells": [
    {
      "cell_type": "code",
      "metadata": {
        "colab": {
          "base_uri": "https://localhost:8080/"
        },
        "id": "niIsNLHhAM9Y",
        "outputId": "52a3964b-0bc9-45b4-9ad2-0e522b09077d"
      },
      "source": [
        "nltk.download('vader_lexicon')\n",
        "import nltk\n",
        "import nltk.sentiment.util\n",
        "import nltk.sentiment.sentiment_analyzer\n",
        "from nltk.sentiment.vader import SentimentIntensityAnalyzer"
      ],
      "execution_count": 7,
      "outputs": [
        {
          "output_type": "stream",
          "name": "stdout",
          "text": [
            "[nltk_data] Downloading package vader_lexicon to /root/nltk_data...\n"
          ]
        }
      ]
    },
    {
      "cell_type": "code",
      "metadata": {
        "id": "OvSAfn8ZARCR"
      },
      "source": [
        "def mySentimentAnalyzer():\n",
        "    def score_feedback(text):\n",
        "        positive_words = ['love', 'genuine', 'liked']\n",
        "        if '_NEG' in ' '.join(nltk.sentiment.util.mark_negation(text.split())):\n",
        "            score = -1\n",
        "        else:\n",
        "            analysis = nltk.sentiment.util.extract_unigram_feats(text.split(), positive_words)\n",
        "            if True in analysis.values():\n",
        "                score = 1\n",
        "            else:\n",
        "                score = 0\n",
        "        return score\n",
        "\n",
        "    feedback = \"\"\"I love the items in this shop, very genuine and quality is well maintained.\n",
        "    I have visited this shop and had samosa, my friends liked it very much.\n",
        "    ok average food in this shop.\n",
        "    Fridays are very busy in this shop, do not place orders during this day.\"\"\"\n",
        "    print(\"\\n\")\n",
        "    print(' -- custom scorer --')\n",
        "    for text in feedback.split(\"\\n\"):\n",
        "        print(\"score = {} for >> {}\".format(score_feedback(text), text))"
      ],
      "execution_count": 11,
      "outputs": []
    },
    {
      "cell_type": "code",
      "metadata": {
        "id": "ysF7hSgGATFF"
      },
      "source": [
        "def advancedSentimentAnalyzer():\n",
        "    sentences = [\n",
        "        ':)',\n",
        "        ':(',\n",
        "        'She is so :(',\n",
        "        'I love the way cricket is played by the champions',\n",
        "        'She neither likes coffee nor tea',\n",
        "    ]\n",
        "    senti = SentimentIntensityAnalyzer()\n",
        "    print(' -- built-in intensity analyser --')\n",
        "    for sentence in sentences:\n",
        "        print('[{}]'.format(sentence), end=' --> ')\n",
        "        kvp = senti.polarity_scores(sentence)\n",
        "        for k in kvp:\n",
        "            print('{} = {}, '.format(k, kvp[k]), end='')\n",
        "        print()"
      ],
      "execution_count": 12,
      "outputs": []
    },
    {
      "cell_type": "code",
      "metadata": {
        "colab": {
          "base_uri": "https://localhost:8080/"
        },
        "id": "ixn0gfzSAb5d",
        "outputId": "45d67ecd-9987-4eda-e3db-0e0e58ea1bf2"
      },
      "source": [
        "if __name__ == '__main__':\n",
        "    advancedSentimentAnalyzer()\n",
        "    mySentimentAnalyzer()"
      ],
      "execution_count": 13,
      "outputs": [
        {
          "output_type": "stream",
          "name": "stdout",
          "text": [
            " -- built-in intensity analyser --\n",
            "[:)] --> neg = 0.0, neu = 0.0, pos = 1.0, compound = 0.4588, \n",
            "[:(] --> neg = 1.0, neu = 0.0, pos = 0.0, compound = -0.4404, \n",
            "[She is so :(] --> neg = 0.555, neu = 0.445, pos = 0.0, compound = -0.5777, \n",
            "[I love the way cricket is played by the champions] --> neg = 0.0, neu = 0.375, pos = 0.625, compound = 0.875, \n",
            "[She neither likes coffee nor tea] --> neg = 0.318, neu = 0.682, pos = 0.0, compound = -0.3252, \n",
            "\n",
            "\n",
            " -- custom scorer --\n",
            "score = 1 for >> I love the items in this shop, very genuine and quality is well maintained.\n",
            "score = 1 for >>     I have visited this shop and had samosa, my friends liked it very much.\n",
            "score = 0 for >>     ok average food in this shop.\n",
            "score = -1 for >>     Fridays are very busy in this shop, do not place orders during this day.\n"
          ]
        }
      ]
    },
    {
      "cell_type": "code",
      "metadata": {
        "id": "Swva5MonAdT5"
      },
      "source": [
        ""
      ],
      "execution_count": null,
      "outputs": []
    }
  ]
}
{
  "nbformat": 4,
  "nbformat_minor": 0,
  "metadata": {
    "colab": {
      "name": "WordSence.ipynb",
      "provenance": []
    },
    "kernelspec": {
      "name": "python3",
      "display_name": "Python 3"
    },
    "language_info": {
      "name": "python"
    }
  },
  "cells": [
    {
      "cell_type": "code",
      "metadata": {
        "colab": {
          "base_uri": "https://localhost:8080/"
        },
        "id": "NQNnlFIJ_LAi",
        "outputId": "f0599330-5d44-40cc-baf1-20afa5bcb4be"
      },
      "source": [
        "nltk.download('wordnet')\n",
        "import nltk"
      ],
      "execution_count": 6,
      "outputs": [
        {
          "output_type": "stream",
          "name": "stdout",
          "text": [
            "[nltk_data] Downloading package wordnet to /root/nltk_data...\n",
            "[nltk_data]   Package wordnet is already up-to-date!\n"
          ]
        }
      ]
    },
    {
      "cell_type": "code",
      "metadata": {
        "id": "oouxIXp1_NJ_"
      },
      "source": [
        "def understandWordSenseExamples():\n",
        "    words = ['wind', 'date', 'left']\n",
        "    print(\"-- examples --\")\n",
        "    for word in words:\n",
        "        syns = nltk.corpus.wordnet.synsets(word)\n",
        "        for syn in syns[:2]:\n",
        "            for example in syn.examples()[:2]:\n",
        "                print(\"{} -> {} -> {}\".format(word, syn.name(), example))"
      ],
      "execution_count": 7,
      "outputs": []
    },
    {
      "cell_type": "code",
      "metadata": {
        "id": "93fXj8xs_O7c"
      },
      "source": [
        "def understandBuiltinWSD():\n",
        "    print(\"-- built-in wsd --\")\n",
        "    maps = [\n",
        "        ('Is it the fish net that you are using to catch fish ?', 'fish', 'n'),\n",
        "        ('Please dont point your finger at others.', 'point', 'n'),\n",
        "        ('I went to the river bank to see the sun rise', 'bank', 'n'),\n",
        "    ]\n",
        "    for m in maps:\n",
        "        print(\"Sense '{}' for '{}' -> '{}'\".format(m[0], m[1], nltk.wsd.lesk(m[0], m[1], m[2])))\n"
      ],
      "execution_count": 8,
      "outputs": []
    },
    {
      "cell_type": "code",
      "metadata": {
        "colab": {
          "base_uri": "https://localhost:8080/"
        },
        "id": "uCot7m8c_Qf_",
        "outputId": "d20e1e9a-f8b9-4b56-e854-3f4feab66009"
      },
      "source": [
        "if __name__ == '__main__':\n",
        "    understandWordSenseExamples()\n",
        "    understandBuiltinWSD()"
      ],
      "execution_count": 9,
      "outputs": [
        {
          "output_type": "stream",
          "name": "stdout",
          "text": [
            "-- examples --\n",
            "wind -> wind.n.01 -> trees bent under the fierce winds\n",
            "wind -> wind.n.01 -> when there is no wind, row\n",
            "wind -> wind.n.02 -> the winds of change\n",
            "date -> date.n.01 -> what is the date today?\n",
            "date -> date.n.02 -> his date never stopped talking\n",
            "left -> left.n.01 -> she stood on the left\n",
            "-- built-in wsd --\n",
            "Sense 'Is it the fish net that you are using to catch fish ?' for 'fish' -> 'Synset('pisces.n.02')'\n",
            "Sense 'Please dont point your finger at others.' for 'point' -> 'Synset('point.n.25')'\n",
            "Sense 'I went to the river bank to see the sun rise' for 'bank' -> 'Synset('savings_bank.n.02')'\n"
          ]
        }
      ]
    },
    {
      "cell_type": "code",
      "metadata": {
        "id": "TNqU84WE_Rvb"
      },
      "source": [
        ""
      ],
      "execution_count": null,
      "outputs": []
    }
  ]
}
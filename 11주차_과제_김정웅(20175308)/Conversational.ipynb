{
  "nbformat": 4,
  "nbformat_minor": 0,
  "metadata": {
    "colab": {
      "name": "Conversational.ipynb",
      "provenance": [],
      "collapsed_sections": []
    },
    "kernelspec": {
      "name": "python3",
      "display_name": "Python 3"
    },
    "language_info": {
      "name": "python"
    }
  },
  "cells": [
    {
      "cell_type": "code",
      "metadata": {
        "id": "szoSZHLhC3bo"
      },
      "source": [
        "import nltk"
      ],
      "execution_count": 1,
      "outputs": []
    },
    {
      "cell_type": "code",
      "metadata": {
        "id": "jBIZBsYADByo"
      },
      "source": [
        "def builtinEngines(whichOne):\n",
        "    if whichOne == 'eliza':\n",
        "        nltk.chat.eliza.demo()\n",
        "    elif whichOne == 'iesha':\n",
        "        nltk.chat.iesha.demo()\n",
        "    elif whichOne == 'rude':\n",
        "        nltk.chat.rude.demo()\n",
        "    elif whichOne == 'suntsu':\n",
        "        nltk.chat.suntsu.demo()\n",
        "    elif whichOne == 'zen':\n",
        "        nltk.chat.zen.demo()\n",
        "    else:\n",
        "        print(\"unknown built-in chat engine {}\".format(whichOne))"
      ],
      "execution_count": 2,
      "outputs": []
    },
    {
      "cell_type": "code",
      "metadata": {
        "id": "Y342KdiKDDHd"
      },
      "source": [
        "def myEngine():\n",
        "    chatpairs = (\n",
        "        (r\"(.*?)Stock price(.*)\",\n",
        "            (\"Today stock price is 100\",\n",
        "            \"I am unable to find out the stock price.\")),\n",
        "        (r\"(.*?)not well(.*)\",\n",
        "            (\"Oh, take care. May be you should visit a doctor\",\n",
        "            \"Did you take some medicine ?\")),\n",
        "        (r\"(.*?)raining(.*)\",\n",
        "            (\"Its monsoon season, what more do you expect ?\",\n",
        "            \"Yes, its good for farmers\")),\n",
        "        (r\"How(.*?)health(.*)\",\n",
        "            (\"I am always healthy.\",\n",
        "            \"I am a program, super healthy!\")),\n",
        "        (r\".*\",\n",
        "            (\"I am good. How are you today ?\",\n",
        "            \"What brings you here ?\"))\n",
        "    )\n",
        "    def chat():\n",
        "        print(\"!\"*80)\n",
        "        print(\" >> my Engine << \")\n",
        "        print(\"Talk to the program using normal english\")\n",
        "        print(\"=\"*80)\n",
        "        print(\"Enter 'quit' when done\")\n",
        "        chatbot = nltk.chat.util.Chat(chatpairs, nltk.chat.util.reflections)\n",
        "        chatbot.converse()\n",
        "\n",
        "    chat()"
      ],
      "execution_count": 3,
      "outputs": []
    },
    {
      "cell_type": "code",
      "metadata": {
        "id": "7RPHM9_mDbIM",
        "colab": {
          "base_uri": "https://localhost:8080/"
        },
        "outputId": "bf372eaf-3c8d-4461-982e-610927f31753"
      },
      "source": [
        "if __name__ == '__main__':\n",
        "    for engine in ['eliza', 'iesha', 'rude', 'suntsu', 'zen']:\n",
        "        print(\"=== demo of {} ===\".format(engine))\n",
        "        builtinEngines(engine)\n",
        "        print()\n",
        "    myEngine()"
      ],
      "execution_count": 5,
      "outputs": [
        {
          "output_type": "stream",
          "name": "stdout",
          "text": [
            "=== demo of eliza ===\n",
            "Therapist\n",
            "---------\n",
            "Talk to the program by typing in plain English, using normal upper-\n",
            "and lower-case letters and punctuation.  Enter \"quit\" when done.\n",
            "========================================================================\n",
            "Hello.  How are you feeling today?\n",
            ">hi\n",
            "Very interesting.\n",
            ">hi\n",
            "Can you elaborate on that?\n",
            ">hi\n",
            "I see.\n",
            ">hi\n",
            "I see.\n",
            ">quit\n",
            "Thank you for talking with me.\n",
            "\n",
            "=== demo of iesha ===\n",
            "Iesha the TeenBoT\n",
            "---------\n",
            "Talk to the program by typing in plain English, using normal upper-\n",
            "and lower-case letters and punctuation.  Enter \"quit\" when done.\n",
            "========================================================================\n",
            "hi!! i'm iesha! who r u??!\n",
            ">hi\n",
            "ur funny! kekeke\n",
            ">hi\n",
            "i wish i was a kitty!! kekekeke ^_^\n",
            ">hi\n",
            "i wish i was a kitty!! kekekeke ^_^\n",
            ">quit\n",
            "mom says i have to go eat dinner now :,( bye!!\n",
            "\n",
            "=== demo of rude ===\n",
            "Talk to the program by typing in plain English, using normal upper-\n",
            "and lower-case letters and punctuation.  Enter \"quit\" when done.\n",
            "========================================================================\n",
            "I suppose I should say hello.\n",
            ">hi\n",
            "I'm getting bored here. Become more interesting.\n",
            ">hi\n",
            "I'm getting bored here. Become more interesting.\n",
            ">quit\n",
            "Change the subject before I die of fatal boredom.\n",
            "\n",
            "=== demo of suntsu ===\n",
            "Talk to the program by typing in plain English, using normal upper-\n",
            "and lower-case letters and punctuation.  Enter \"quit\" when done.\n",
            "========================================================================\n",
            "You seek enlightenment?\n",
            ">hi\n",
            "One may know how to conquer without being able to do it.\n",
            ">hi\n",
            "The good fighters of old first put themselves beyond the possibility of defeat, and then waited for an opportunity of defeating the enemy.\n",
            ">quit\n",
            "Good-bye.\n",
            "\n",
            "=== demo of zen ===\n",
            "***************************************************************************\n",
            "                                Zen Chatbot!                               \n",
            "***************************************************************************\n",
            "         \"Look beyond mere words and letters - look into your mind\"        \n",
            "* Talk your way to truth with Zen Chatbot.\n",
            "* Type 'quit' when you have had enough.\n",
            "***************************************************************************\n",
            "Welcome, my child.\n",
            ">hi\n",
            "The reverse side also has a reverse side.\n",
            ">hi\n",
            "I pour out a cup of water. Is the cup empty?\n",
            ">hi\n",
            "I pour out a cup of water. Is the cup empty?\n",
            ">quit\n",
            "The reverse side also has a reverse side.\n",
            "\n",
            "!!!!!!!!!!!!!!!!!!!!!!!!!!!!!!!!!!!!!!!!!!!!!!!!!!!!!!!!!!!!!!!!!!!!!!!!!!!!!!!!\n",
            " >> my Engine << \n",
            "Talk to the program using normal english\n",
            "================================================================================\n",
            "Enter 'quit' when done\n",
            ">Stock price\n",
            "Today stock price is 100\n",
            ">not well\n",
            "Oh, take care. May be you should visit a doctor\n",
            ">raining\n",
            "Its monsoon season, what more do you expect ?\n",
            ">How about your health?\n",
            "I am always healthy.\n",
            ">health\n",
            "What brings you here ?\n",
            ">It's raining\n",
            "Yes, its good for farmers\n",
            ">I'm not well\n",
            "Oh, take care. May be you should visit a doctor\n",
            ">Stock price?\n",
            "Today stock price is 100\n",
            ">not well?\n",
            "Oh, take care. May be you should visit a doctor\n",
            ">? not well\n",
            "Oh, take care. May be you should visit a doctor\n",
            ">quir\n",
            "I am good. How are you today ?\n",
            ">quit\n",
            "I am good. How are you today ?\n"
          ]
        }
      ]
    },
    {
      "cell_type": "code",
      "metadata": {
        "id": "-LuJidg7Eysu"
      },
      "source": [
        ""
      ],
      "execution_count": null,
      "outputs": []
    }
  ]
}
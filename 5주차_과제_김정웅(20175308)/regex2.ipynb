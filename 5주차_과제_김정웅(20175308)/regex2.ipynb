{
 "cells": [
  {
   "cell_type": "code",
   "execution_count": 1,
   "metadata": {},
   "outputs": [],
   "source": [
    "import re"
   ]
  },
  {
   "cell_type": "code",
   "execution_count": 2,
   "metadata": {},
   "outputs": [],
   "source": [
    "def text_match(text, patterns):\n",
    "    if re.search(patterns, text):\n",
    "        return('일치하는 항목을 찾았습니다!')\n",
    "    else:\n",
    "        return('일치하지 않음!')"
   ]
  },
  {
   "cell_type": "code",
   "execution_count": 3,
   "metadata": {},
   "outputs": [
    {
     "name": "stdout",
     "output_type": "stream",
     "text": [
      "테스트 패턴은 다음으로 시작하고 끝남\n",
      "일치하는 항목을 찾았습니다!\n"
     ]
    }
   ],
   "source": [
    "print(\"테스트 패턴은 다음으로 시작하고 끝남\")\n",
    "print(text_match(\"abbc\", \"^a.*c$\"))\n",
    "# ^a : 시작이 a\n",
    "# . : 와일드카드\n",
    "# c$ : 끝이 c"
   ]
  },
  {
   "cell_type": "code",
   "execution_count": 4,
   "metadata": {},
   "outputs": [
    {
     "name": "stdout",
     "output_type": "stream",
     "text": [
      "단어로 시작함\n",
      "일치하는 항목을 찾았습니다!\n"
     ]
    }
   ],
   "source": [
    "print(\"단어로 시작함\")\n",
    "print(text_match(\"Tuffy eats pie, Loki eats peas!\", \"^\\w+\"))\n",
    "# \\w 알파벳 + 숫자 + _ \n",
    "# \\W \\w를 제외한 모든 문자"
   ]
  },
  {
   "cell_type": "code",
   "execution_count": 6,
   "metadata": {},
   "outputs": [
    {
     "name": "stdout",
     "output_type": "stream",
     "text": [
      "단어와 선택적 문장부호로 끝남\n",
      "일치하는 항목을 찾았습니다!\n"
     ]
    }
   ],
   "source": [
    "print(\"단어와 선택적 문장부호로 끝남\")\n",
    "print(text_match(\"Tuffy eats pie, Loki eats peas!\", \"\\w+\\S*?$\"))\n",
    "# \\S 공백이 아닌문자\n",
    "# \\s 공백문자"
   ]
  },
  {
   "cell_type": "code",
   "execution_count": 13,
   "metadata": {},
   "outputs": [
    {
     "name": "stdout",
     "output_type": "stream",
     "text": [
      "단어의 시작이나 끝이 아닌 문자가 포함된 단어 찾기\n",
      "일치하지 않음!\n"
     ]
    }
   ],
   "source": [
    "print(\"단어의 시작이나 끝이 아닌 문자가 포함된 단어 찾기\")\n",
    "print(text_match(\"Tuffy eats pie, Loki eats peas!\", \"\\Bu\\B\"))\n",
    "# \\b 문자와 공백 사이의 문자\n",
    "# \\B 문자와 공백 사이가 아닌 값, 즉 공백이 좌우로 있는지?"
   ]
  },
  {
   "cell_type": "code",
   "execution_count": null,
   "metadata": {},
   "outputs": [],
   "source": []
  }
 ],
 "metadata": {
  "kernelspec": {
   "display_name": "Python 3",
   "language": "python",
   "name": "python3"
  },
  "language_info": {
   "codemirror_mode": {
    "name": "ipython",
    "version": 3
   },
   "file_extension": ".py",
   "mimetype": "text/x-python",
   "name": "python",
   "nbconvert_exporter": "python",
   "pygments_lexer": "ipython3",
   "version": "3.8.3"
  }
 },
 "nbformat": 4,
 "nbformat_minor": 4
}

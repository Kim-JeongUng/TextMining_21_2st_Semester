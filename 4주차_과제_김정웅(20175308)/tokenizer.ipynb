{
 "cells": [
  {
   "cell_type": "code",
   "execution_count": 1,
   "metadata": {},
   "outputs": [],
   "source": [
    "import nltk"
   ]
  },
  {
   "cell_type": "code",
   "execution_count": 2,
   "metadata": {},
   "outputs": [],
   "source": [
    "from nltk.tokenize import LineTokenizer, SpaceTokenizer, TweetTokenizer\n",
    "# 클래스\n",
    "# Line : 줄별로 \\n\n",
    "# Space : 띄어쓰기 별로\n",
    "# Tweet : 특수기호"
   ]
  },
  {
   "cell_type": "code",
   "execution_count": 3,
   "metadata": {},
   "outputs": [],
   "source": [
    "from nltk import word_tokenize\n",
    "# 메소드"
   ]
  },
  {
   "cell_type": "code",
   "execution_count": 5,
   "metadata": {},
   "outputs": [
    {
     "name": "stdout",
     "output_type": "stream",
     "text": [
      "Line tokenizer 출력 :  ['My name is Maximus Decimus Meridius, commander of the Armies of the North, General of the Felix Legions and loyal servant to the true emperor, Marcus Aurelius.', 'Father to a murdered son, husband to a murdered wife. ', 'And I will have my vengeance, in this life or the next.']\n"
     ]
    }
   ],
   "source": [
    "lTokenizer = LineTokenizer()\n",
    "print(\"Line tokenizer 출력 : \", lTokenizer.tokenize(\"My name is Maximus Decimus Meridius, commander of the Armies of the North, General of the Felix Legions and loyal servant to the true emperor, Marcus Aurelius.\\nFather to a murdered son, husband to a murdered wife. \\nAnd I will have my vengeance, in this life or the next.\"))"
   ]
  },
  {
   "cell_type": "code",
   "execution_count": 6,
   "metadata": {},
   "outputs": [
    {
     "name": "stdout",
     "output_type": "stream",
     "text": [
      "Space Tokenizer 출력 : ['By', '11', \"o'clock\", 'on', 'Sunday,', 'the', 'doctor', 'shall', 'open', 'the', 'dispensary.']\n"
     ]
    }
   ],
   "source": [
    "rawText = \"By 11 o'clock on Sunday, the doctor shall open the dispensary.\"\n",
    "sTokenizer = SpaceTokenizer() # 구두점이 포함됨\n",
    "print(\"Space Tokenizer 출력 :\", sTokenizer.tokenize(rawText))"
   ]
  },
  {
   "cell_type": "code",
   "execution_count": 10,
   "metadata": {},
   "outputs": [
    {
     "name": "stderr",
     "output_type": "stream",
     "text": [
      "[nltk_data] Downloading package punkt to\n",
      "[nltk_data]     C:\\Users\\USER\\AppData\\Roaming\\nltk_data...\n",
      "[nltk_data]   Package punkt is already up-to-date!\n"
     ]
    },
    {
     "data": {
      "text/plain": [
       "True"
      ]
     },
     "execution_count": 10,
     "metadata": {},
     "output_type": "execute_result"
    }
   ],
   "source": [
    "nltk.download('punkt')\n",
    "# 메소드인 word tokenizer를 사용하기 위함"
   ]
  },
  {
   "cell_type": "code",
   "execution_count": 7,
   "metadata": {},
   "outputs": [
    {
     "name": "stdout",
     "output_type": "stream",
     "text": [
      "Word Tokenizer 출력 :  ['By', '11', \"o'clock\", 'on', 'Sunday', ',', 'the', 'doctor', 'shall', 'open', 'the', 'dispensary', '.']\n"
     ]
    }
   ],
   "source": [
    "print(\"Word Tokenizer 출력 : \", word_tokenize(rawText))"
   ]
  },
  {
   "cell_type": "code",
   "execution_count": 8,
   "metadata": {},
   "outputs": [
    {
     "name": "stdout",
     "output_type": "stream",
     "text": [
      "Tweet Tokenizer 출력 :  ['This', 'is', 'a', 'cooool', '#dummysmiley', ':', ':-)', ':-P', '<3']\n"
     ]
    }
   ],
   "source": [
    "tTokenizer = TweetTokenizer()\n",
    "print(\"Tweet Tokenizer 출력 : \", tTokenizer.tokenize(\"This is a cooool #dummysmiley: :-) :-P <3\"))"
   ]
  },
  {
   "cell_type": "code",
   "execution_count": 2,
   "metadata": {},
   "outputs": [],
   "source": [
    "# word와 space의 차이 : 의미있는 단어와 구두점을 각각 하나의 토큰으로 분리한다.\n",
    "# word는 메소드, space는 클래스"
   ]
  },
  {
   "cell_type": "code",
   "execution_count": null,
   "metadata": {},
   "outputs": [],
   "source": []
  }
 ],
 "metadata": {
  "kernelspec": {
   "display_name": "Python 3",
   "language": "python",
   "name": "python3"
  },
  "language_info": {
   "codemirror_mode": {
    "name": "ipython",
    "version": 3
   },
   "file_extension": ".py",
   "mimetype": "text/x-python",
   "name": "python",
   "nbconvert_exporter": "python",
   "pygments_lexer": "ipython3",
   "version": "3.8.3"
  }
 },
 "nbformat": 4,
 "nbformat_minor": 4
}

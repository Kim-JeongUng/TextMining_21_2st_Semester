{
 "cells": [
  {
   "cell_type": "code",
   "execution_count": 1,
   "metadata": {},
   "outputs": [],
   "source": [
    "story1 = \"In the big states of Maharashtra, Gujarat and Uttar Pradesh, some of the areas worst-affected by the virus, demand for oxygen has more than tripled, doctors and government officials said, prompting urgent calls for help.\\n Desperate patients have been calling me through the night but I don’t know when I will get stock,\"\" Rishikhesh Patil, an oxygen supplier in the western city of Nashik, told Reuters. \\nMeanwhile, a senior minister in Prime Minister Narendra Modi’s cabinet, Nitin Gadkari, also tested positive for the coronavirus infection, he said in a tweet.\"\n",
    "story2 = \"India is in crisis. Its economy has crashed, with the largest slump on record decimating millions of jobs. Its already fragile healthcare system is buckling under the weight of soaring coronavirus cases. With more than five million cases, India ranks only behind the United States for confirmed infections. \\n But whereas other populist leaders are feeling the political heat from their handling of the pandemic -- US President Donald Trump and his British counterpart Boris Johnson, for instance -- Indian Prime Minister Narendra Modi has largely escaped the scathing headlines and crushing opinion polls that have beleaguered his counterparts.\""
   ]
  },
  {
   "cell_type": "code",
   "execution_count": 2,
   "metadata": {},
   "outputs": [],
   "source": [
    "story1 = story1.replace(\",\", \"\").replace(\"\\n\", \"\").replace('.', '').replace('\"', '').replace(\"!\",\"\").replace(\"?\",\"\").casefold()\n",
    "story2 = story2.replace(\",\", \"\").replace(\"\\n\", \"\").replace('.', '').replace('\"', '').replace(\"!\",\"\").replace(\"?\",\"\").casefold()\n",
    "# casefold() -> 대문자를 소문자로"
   ]
  },
  {
   "cell_type": "code",
   "execution_count": 9,
   "metadata": {},
   "outputs": [
    {
     "name": "stderr",
     "output_type": "stream",
     "text": [
      "[nltk_data] Downloading package stopwords to\n",
      "[nltk_data]     C:\\Users\\USER\\AppData\\Roaming\\nltk_data...\n",
      "[nltk_data]   Package stopwords is already up-to-date!\n"
     ]
    },
    {
     "data": {
      "text/plain": [
       "True"
      ]
     },
     "execution_count": 9,
     "metadata": {},
     "output_type": "execute_result"
    }
   ],
   "source": [
    "import nltk\n",
    "nltk.download('stopwords')"
   ]
  },
  {
   "cell_type": "code",
   "execution_count": 3,
   "metadata": {
    "scrolled": true
   },
   "outputs": [
    {
     "name": "stdout",
     "output_type": "stream",
     "text": [
      "첫 번째 이야기 단어 : ['in', 'the', 'big', 'states', 'of', 'maharashtra', 'gujarat', 'and', 'uttar', 'pradesh', 'some', 'of', 'the', 'areas', 'worst-affected', 'by', 'the', 'virus', 'demand', 'for', 'oxygen', 'has', 'more', 'than', 'tripled', 'doctors', 'and', 'government', 'officials', 'said', 'prompting', 'urgent', 'calls', 'for', 'help', 'desperate', 'patients', 'have', 'been', 'calling', 'me', 'through', 'the', 'night', 'but', 'i', 'don’t', 'know', 'when', 'i', 'will', 'get', 'stock', 'rishikhesh', 'patil', 'an', 'oxygen', 'supplier', 'in', 'the', 'western', 'city', 'of', 'nashik', 'told', 'reuters', 'meanwhile', 'a', 'senior', 'minister', 'in', 'prime', 'minister', 'narendra', 'modi’s', 'cabinet', 'nitin', 'gadkari', 'also', 'tested', 'positive', 'for', 'the', 'coronavirus', 'infection', 'he', 'said', 'in', 'a', 'tweet']\n",
      "두 번째 이야기 단어 : ['india', 'is', 'in', 'crisis', 'its', 'economy', 'has', 'crashed', 'with', 'the', 'largest', 'slump', 'on', 'record', 'decimating', 'millions', 'of', 'jobs', 'its', 'already', 'fragile', 'healthcare', 'system', 'is', 'buckling', 'under', 'the', 'weight', 'of', 'soaring', 'coronavirus', 'cases', 'with', 'more', 'than', 'five', 'million', 'cases', 'india', 'ranks', 'only', 'behind', 'the', 'united', 'states', 'for', 'confirmed', 'infections', '', 'but', 'whereas', 'other', 'populist', 'leaders', 'are', 'feeling', 'the', 'political', 'heat', 'from', 'their', 'handling', 'of', 'the', 'pandemic', '--', 'us', 'president', 'donald', 'trump', 'and', 'his', 'british', 'counterpart', 'boris', 'johnson', 'for', 'instance', '--', 'indian', 'prime', 'minister', 'narendra', 'modi', 'has', 'largely', 'escaped', 'the', 'scathing', 'headlines', 'and', 'crushing', 'opinion', 'polls', 'that', 'have', 'beleaguered', 'his', 'counterparts']\n"
     ]
    }
   ],
   "source": [
    "story1_words = story1.split(\" \")\n",
    "print(\"첫 번째 이야기 단어 :\", story1_words)\n",
    "story2_words = story2.split(\" \")\n",
    "print(\"두 번째 이야기 단어 :\", story2_words)"
   ]
  },
  {
   "cell_type": "code",
   "execution_count": 4,
   "metadata": {},
   "outputs": [
    {
     "name": "stdout",
     "output_type": "stream",
     "text": [
      "첫 번째 이야기 어휘 : {'for', 'patil', 'areas', 'city', 'nitin', 'virus', 'senior', 'uttar', 'patients', 'officials', 'prompting', 'of', 'been', 'calling', 'me', 'when', 'stock', 'rishikhesh', 'supplier', 'doctors', 'coronavirus', 'by', 'an', 'told', 'reuters', 'gadkari', 'i', 'a', 'and', 'oxygen', 'some', 'worst-affected', 'know', 'night', 'modi’s', 'positive', 'help', 'gujarat', 'demand', 'tripled', 'cabinet', 'more', 'urgent', 'nashik', 'has', 'through', 'big', 'will', 'desperate', 'narendra', 'also', 'he', 'but', 'minister', 'maharashtra', 'the', 'infection', 'than', 'in', 'government', 'said', 'western', 'get', 'tested', 'pradesh', 'states', 'don’t', 'tweet', 'prime', 'calls', 'have', 'meanwhile'}\n",
      "두 번째 이야기 어휘 : {'', 'modi', 'largest', 'on', 'and', 'british', 'is', 'united', 'his', 'infections', 'but', 'minister', 'political', 'counterparts', 'johnson', 'indian', 'states', 'pandemic', 'with', 'millions', 'for', 'boris', 'crashed', 'its', 'trump', 'coronavirus', 'healthcare', 'more', 'has', 'are', 'slump', 'donald', 'opinion', 'india', 'ranks', 'feeling', 'president', 'jobs', 'their', 'scathing', 'weight', 'only', 'largely', 'prime', 'have', 'crushing', 'other', 'instance', 'counterpart', 'of', 'cases', 'already', 'record', 'handling', 'buckling', 'that', 'system', 'heat', 'the', 'whereas', 'populist', 'decimating', 'soaring', 'polls', 'crisis', 'five', 'from', 'leaders', '--', 'million', 'beleaguered', 'fragile', 'confirmed', 'narendra', 'us', 'economy', 'escaped', 'than', 'in', 'behind', 'under', 'headlines'}\n"
     ]
    }
   ],
   "source": [
    "story1_vocab = set(story1_words)\n",
    "# 같은 단어 중복 X 한번만\n",
    "print(\"첫 번째 이야기 어휘 :\", story1_vocab)\n",
    "story2_vocab = set(story2_words)\n",
    "print(\"두 번째 이야기 어휘 :\", story2_vocab)"
   ]
  },
  {
   "cell_type": "code",
   "execution_count": 13,
   "metadata": {},
   "outputs": [
    {
     "name": "stdout",
     "output_type": "stream",
     "text": [
      "공통 어휘 : {'more', 'than', 'in', 'for', 'has', 'have', 'and', 'but', 'states', 'narendra', 'of', 'prime', 'coronavirus', 'minister', 'the'}\n",
      "스탑워드 제외 공통 어휘 : ['states', 'narendra', 'prime', 'coronavirus', 'minister']\n"
     ]
    }
   ],
   "source": [
    "common_vocab = story1_vocab & story2_vocab\n",
    "print(\"공통 어휘 :\", common_vocab)\n",
    "stopwords = nltk.corpus.stopwords.words('english')\n",
    "words = [c for c in common_vocab if c.lower() not in stopwords]\n",
    "\n",
    "print(\"스탑워드 제외 공통 어휘 :\", words)"
   ]
  },
  {
   "cell_type": "code",
   "execution_count": null,
   "metadata": {},
   "outputs": [],
   "source": []
  }
 ],
 "metadata": {
  "kernelspec": {
   "display_name": "Python 3",
   "language": "python",
   "name": "python3"
  },
  "language_info": {
   "codemirror_mode": {
    "name": "ipython",
    "version": 3
   },
   "file_extension": ".py",
   "mimetype": "text/x-python",
   "name": "python",
   "nbconvert_exporter": "python",
   "pygments_lexer": "ipython3",
   "version": "3.8.3"
  }
 },
 "nbformat": 4,
 "nbformat_minor": 4
}
